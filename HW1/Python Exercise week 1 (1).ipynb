{
 "cells": [
  {
   "cell_type": "markdown",
   "id": "f57ffacc",
   "metadata": {},
   "source": [
    "ASSIGNMENT 1: GETTING STARTED WITH PYTHON"
   ]
  },
  {
   "cell_type": "markdown",
   "id": "a168fc74",
   "metadata": {},
   "source": [
    "GROUP MEMBERS : \n",
    "    AKASH PERNI,\n",
    "    GANESH PENDELA, \n",
    "    SAMBA SIVESH KURRA, \n",
    "    PAVAN SAINATH ATUKURI, \n",
    "    SRI HARSHA NUTALAPATI"
   ]
  },
  {
   "cell_type": "markdown",
   "id": "93796de2",
   "metadata": {},
   "source": [
    "MAIL IDS : \n",
    "    aperni@umd.edu\n",
    "    spendela@umd.edu\n",
    "    shiv1818@umd.edu\n",
    "    patukuri@umd.edu\n",
    "    vnutalap@umd.edu"
   ]
  },
  {
   "cell_type": "markdown",
   "id": "8dc2649b",
   "metadata": {},
   "source": [
    "Python Exercise – Part 1.1\n",
    "Variables"
   ]
  },
  {
   "cell_type": "markdown",
   "id": "be7a55fc",
   "metadata": {},
   "source": [
    "Create the following text\n",
    "string\n",
    "• Unsupervised learning needs\n",
    "a target.\n",
    "• Turn it into uppercase, view\n",
    "its value and also print it\n",
    "• If you believe the text is\n",
    "incorrect, then correct and\n",
    "print it"
   ]
  },
  {
   "cell_type": "code",
   "execution_count": 1,
   "id": "197c651c",
   "metadata": {
    "scrolled": true
   },
   "outputs": [
    {
     "name": "stdout",
     "output_type": "stream",
     "text": [
      "UNSUPERVISED LEARNING NEEDS A TARGET\n"
     ]
    }
   ],
   "source": [
    "a=\"Unsupervised learning needs a target\"\n",
    "a=a.upper()\n",
    "print(a)"
   ]
  },
  {
   "cell_type": "code",
   "execution_count": 2,
   "id": "0323a28d",
   "metadata": {},
   "outputs": [
    {
     "name": "stdout",
     "output_type": "stream",
     "text": [
      "Requirement already satisfied: jupyter_contrib_nbextensions in ./anaconda3/lib/python3.11/site-packages (0.7.0)\n",
      "Requirement already satisfied: ipython-genutils in ./anaconda3/lib/python3.11/site-packages (from jupyter_contrib_nbextensions) (0.2.0)\n",
      "Requirement already satisfied: jupyter-contrib-core>=0.3.3 in ./anaconda3/lib/python3.11/site-packages (from jupyter_contrib_nbextensions) (0.4.2)\n",
      "Requirement already satisfied: jupyter-core in ./anaconda3/lib/python3.11/site-packages (from jupyter_contrib_nbextensions) (5.3.0)\n",
      "Requirement already satisfied: jupyter-highlight-selected-word>=0.1.1 in ./anaconda3/lib/python3.11/site-packages (from jupyter_contrib_nbextensions) (0.2.0)\n",
      "Requirement already satisfied: jupyter-nbextensions-configurator>=0.4.0 in ./anaconda3/lib/python3.11/site-packages (from jupyter_contrib_nbextensions) (0.6.3)\n",
      "Requirement already satisfied: nbconvert>=6.0 in ./anaconda3/lib/python3.11/site-packages (from jupyter_contrib_nbextensions) (6.5.4)\n",
      "Requirement already satisfied: notebook>=6.0 in ./anaconda3/lib/python3.11/site-packages (from jupyter_contrib_nbextensions) (6.5.4)\n",
      "Requirement already satisfied: tornado in ./anaconda3/lib/python3.11/site-packages (from jupyter_contrib_nbextensions) (6.3.2)\n",
      "Requirement already satisfied: traitlets>=4.1 in ./anaconda3/lib/python3.11/site-packages (from jupyter_contrib_nbextensions) (5.7.1)\n",
      "Requirement already satisfied: lxml in ./anaconda3/lib/python3.11/site-packages (from jupyter_contrib_nbextensions) (4.9.2)\n",
      "Requirement already satisfied: setuptools in ./anaconda3/lib/python3.11/site-packages (from jupyter-contrib-core>=0.3.3->jupyter_contrib_nbextensions) (68.0.0)\n",
      "Requirement already satisfied: pyyaml in ./anaconda3/lib/python3.11/site-packages (from jupyter-nbextensions-configurator>=0.4.0->jupyter_contrib_nbextensions) (6.0)\n",
      "Requirement already satisfied: beautifulsoup4 in ./anaconda3/lib/python3.11/site-packages (from nbconvert>=6.0->jupyter_contrib_nbextensions) (4.12.2)\n",
      "Requirement already satisfied: bleach in ./anaconda3/lib/python3.11/site-packages (from nbconvert>=6.0->jupyter_contrib_nbextensions) (4.1.0)\n",
      "Requirement already satisfied: defusedxml in ./anaconda3/lib/python3.11/site-packages (from nbconvert>=6.0->jupyter_contrib_nbextensions) (0.7.1)\n",
      "Requirement already satisfied: entrypoints>=0.2.2 in ./anaconda3/lib/python3.11/site-packages (from nbconvert>=6.0->jupyter_contrib_nbextensions) (0.4)\n",
      "Requirement already satisfied: jinja2>=3.0 in ./anaconda3/lib/python3.11/site-packages (from nbconvert>=6.0->jupyter_contrib_nbextensions) (3.1.2)\n",
      "Requirement already satisfied: jupyterlab-pygments in ./anaconda3/lib/python3.11/site-packages (from nbconvert>=6.0->jupyter_contrib_nbextensions) (0.1.2)\n",
      "Requirement already satisfied: MarkupSafe>=2.0 in ./anaconda3/lib/python3.11/site-packages (from nbconvert>=6.0->jupyter_contrib_nbextensions) (2.1.1)\n",
      "Requirement already satisfied: mistune<2,>=0.8.1 in ./anaconda3/lib/python3.11/site-packages (from nbconvert>=6.0->jupyter_contrib_nbextensions) (0.8.4)\n",
      "Requirement already satisfied: nbclient>=0.5.0 in ./anaconda3/lib/python3.11/site-packages (from nbconvert>=6.0->jupyter_contrib_nbextensions) (0.5.13)\n",
      "Requirement already satisfied: nbformat>=5.1 in ./anaconda3/lib/python3.11/site-packages (from nbconvert>=6.0->jupyter_contrib_nbextensions) (5.7.0)\n",
      "Requirement already satisfied: packaging in ./anaconda3/lib/python3.11/site-packages (from nbconvert>=6.0->jupyter_contrib_nbextensions) (23.0)\n",
      "Requirement already satisfied: pandocfilters>=1.4.1 in ./anaconda3/lib/python3.11/site-packages (from nbconvert>=6.0->jupyter_contrib_nbextensions) (1.5.0)\n",
      "Requirement already satisfied: pygments>=2.4.1 in ./anaconda3/lib/python3.11/site-packages (from nbconvert>=6.0->jupyter_contrib_nbextensions) (2.15.1)\n",
      "Requirement already satisfied: tinycss2 in ./anaconda3/lib/python3.11/site-packages (from nbconvert>=6.0->jupyter_contrib_nbextensions) (1.2.1)\n",
      "Requirement already satisfied: platformdirs>=2.5 in ./anaconda3/lib/python3.11/site-packages (from jupyter-core->jupyter_contrib_nbextensions) (2.5.2)\n",
      "Requirement already satisfied: pyzmq>=17 in ./anaconda3/lib/python3.11/site-packages (from notebook>=6.0->jupyter_contrib_nbextensions) (23.2.0)\n",
      "Requirement already satisfied: argon2-cffi in ./anaconda3/lib/python3.11/site-packages (from notebook>=6.0->jupyter_contrib_nbextensions) (21.3.0)\n",
      "Requirement already satisfied: jupyter-client>=5.3.4 in ./anaconda3/lib/python3.11/site-packages (from notebook>=6.0->jupyter_contrib_nbextensions) (7.4.9)\n",
      "Requirement already satisfied: nest-asyncio>=1.5 in ./anaconda3/lib/python3.11/site-packages (from notebook>=6.0->jupyter_contrib_nbextensions) (1.5.6)\n",
      "Requirement already satisfied: ipykernel in ./anaconda3/lib/python3.11/site-packages (from notebook>=6.0->jupyter_contrib_nbextensions) (6.19.2)\n",
      "Requirement already satisfied: Send2Trash>=1.8.0 in ./anaconda3/lib/python3.11/site-packages (from notebook>=6.0->jupyter_contrib_nbextensions) (1.8.0)\n",
      "Requirement already satisfied: terminado>=0.8.3 in ./anaconda3/lib/python3.11/site-packages (from notebook>=6.0->jupyter_contrib_nbextensions) (0.17.1)\n",
      "Requirement already satisfied: prometheus-client in ./anaconda3/lib/python3.11/site-packages (from notebook>=6.0->jupyter_contrib_nbextensions) (0.14.1)\n",
      "Requirement already satisfied: nbclassic>=0.4.7 in ./anaconda3/lib/python3.11/site-packages (from notebook>=6.0->jupyter_contrib_nbextensions) (0.5.5)\n",
      "Requirement already satisfied: python-dateutil>=2.8.2 in ./anaconda3/lib/python3.11/site-packages (from jupyter-client>=5.3.4->notebook>=6.0->jupyter_contrib_nbextensions) (2.8.2)\n",
      "Requirement already satisfied: jupyter-server>=1.8 in ./anaconda3/lib/python3.11/site-packages (from nbclassic>=0.4.7->notebook>=6.0->jupyter_contrib_nbextensions) (1.23.4)\n",
      "Requirement already satisfied: notebook-shim>=0.1.0 in ./anaconda3/lib/python3.11/site-packages (from nbclassic>=0.4.7->notebook>=6.0->jupyter_contrib_nbextensions) (0.2.2)\n",
      "Requirement already satisfied: fastjsonschema in ./anaconda3/lib/python3.11/site-packages (from nbformat>=5.1->nbconvert>=6.0->jupyter_contrib_nbextensions) (2.16.2)\n",
      "Requirement already satisfied: jsonschema>=2.6 in ./anaconda3/lib/python3.11/site-packages (from nbformat>=5.1->nbconvert>=6.0->jupyter_contrib_nbextensions) (4.17.3)\n",
      "Requirement already satisfied: ptyprocess in ./anaconda3/lib/python3.11/site-packages (from terminado>=0.8.3->notebook>=6.0->jupyter_contrib_nbextensions) (0.7.0)\n",
      "Requirement already satisfied: argon2-cffi-bindings in ./anaconda3/lib/python3.11/site-packages (from argon2-cffi->notebook>=6.0->jupyter_contrib_nbextensions) (21.2.0)\n",
      "Requirement already satisfied: soupsieve>1.2 in ./anaconda3/lib/python3.11/site-packages (from beautifulsoup4->nbconvert>=6.0->jupyter_contrib_nbextensions) (2.4)\n",
      "Requirement already satisfied: six>=1.9.0 in ./anaconda3/lib/python3.11/site-packages (from bleach->nbconvert>=6.0->jupyter_contrib_nbextensions) (1.16.0)\n",
      "Requirement already satisfied: webencodings in ./anaconda3/lib/python3.11/site-packages (from bleach->nbconvert>=6.0->jupyter_contrib_nbextensions) (0.5.1)\n",
      "Requirement already satisfied: appnope in ./anaconda3/lib/python3.11/site-packages (from ipykernel->notebook>=6.0->jupyter_contrib_nbextensions) (0.1.2)\n",
      "Requirement already satisfied: comm>=0.1.1 in ./anaconda3/lib/python3.11/site-packages (from ipykernel->notebook>=6.0->jupyter_contrib_nbextensions) (0.1.2)\n",
      "Requirement already satisfied: debugpy>=1.0 in ./anaconda3/lib/python3.11/site-packages (from ipykernel->notebook>=6.0->jupyter_contrib_nbextensions) (1.6.7)\n",
      "Requirement already satisfied: ipython>=7.23.1 in ./anaconda3/lib/python3.11/site-packages (from ipykernel->notebook>=6.0->jupyter_contrib_nbextensions) (8.12.0)\n",
      "Requirement already satisfied: matplotlib-inline>=0.1 in ./anaconda3/lib/python3.11/site-packages (from ipykernel->notebook>=6.0->jupyter_contrib_nbextensions) (0.1.6)\n",
      "Requirement already satisfied: psutil in ./anaconda3/lib/python3.11/site-packages (from ipykernel->notebook>=6.0->jupyter_contrib_nbextensions) (5.9.0)\n",
      "Requirement already satisfied: backcall in ./anaconda3/lib/python3.11/site-packages (from ipython>=7.23.1->ipykernel->notebook>=6.0->jupyter_contrib_nbextensions) (0.2.0)\n",
      "Requirement already satisfied: decorator in ./anaconda3/lib/python3.11/site-packages (from ipython>=7.23.1->ipykernel->notebook>=6.0->jupyter_contrib_nbextensions) (5.1.1)\n",
      "Requirement already satisfied: jedi>=0.16 in ./anaconda3/lib/python3.11/site-packages (from ipython>=7.23.1->ipykernel->notebook>=6.0->jupyter_contrib_nbextensions) (0.18.1)\n",
      "Requirement already satisfied: pickleshare in ./anaconda3/lib/python3.11/site-packages (from ipython>=7.23.1->ipykernel->notebook>=6.0->jupyter_contrib_nbextensions) (0.7.5)\n",
      "Requirement already satisfied: prompt-toolkit!=3.0.37,<3.1.0,>=3.0.30 in ./anaconda3/lib/python3.11/site-packages (from ipython>=7.23.1->ipykernel->notebook>=6.0->jupyter_contrib_nbextensions) (3.0.36)\n",
      "Requirement already satisfied: stack-data in ./anaconda3/lib/python3.11/site-packages (from ipython>=7.23.1->ipykernel->notebook>=6.0->jupyter_contrib_nbextensions) (0.2.0)\n",
      "Requirement already satisfied: pexpect>4.3 in ./anaconda3/lib/python3.11/site-packages (from ipython>=7.23.1->ipykernel->notebook>=6.0->jupyter_contrib_nbextensions) (4.8.0)\n",
      "Requirement already satisfied: attrs>=17.4.0 in ./anaconda3/lib/python3.11/site-packages (from jsonschema>=2.6->nbformat>=5.1->nbconvert>=6.0->jupyter_contrib_nbextensions) (22.1.0)\n",
      "Requirement already satisfied: pyrsistent!=0.17.0,!=0.17.1,!=0.17.2,>=0.14.0 in ./anaconda3/lib/python3.11/site-packages (from jsonschema>=2.6->nbformat>=5.1->nbconvert>=6.0->jupyter_contrib_nbextensions) (0.18.0)\n",
      "Requirement already satisfied: anyio<4,>=3.1.0 in ./anaconda3/lib/python3.11/site-packages (from jupyter-server>=1.8->nbclassic>=0.4.7->notebook>=6.0->jupyter_contrib_nbextensions) (3.5.0)\n",
      "Requirement already satisfied: websocket-client in ./anaconda3/lib/python3.11/site-packages (from jupyter-server>=1.8->nbclassic>=0.4.7->notebook>=6.0->jupyter_contrib_nbextensions) (0.58.0)\n",
      "Requirement already satisfied: cffi>=1.0.1 in ./anaconda3/lib/python3.11/site-packages (from argon2-cffi-bindings->argon2-cffi->notebook>=6.0->jupyter_contrib_nbextensions) (1.15.1)\n",
      "Requirement already satisfied: idna>=2.8 in ./anaconda3/lib/python3.11/site-packages (from anyio<4,>=3.1.0->jupyter-server>=1.8->nbclassic>=0.4.7->notebook>=6.0->jupyter_contrib_nbextensions) (3.4)\n",
      "Requirement already satisfied: sniffio>=1.1 in ./anaconda3/lib/python3.11/site-packages (from anyio<4,>=3.1.0->jupyter-server>=1.8->nbclassic>=0.4.7->notebook>=6.0->jupyter_contrib_nbextensions) (1.2.0)\n",
      "Requirement already satisfied: pycparser in ./anaconda3/lib/python3.11/site-packages (from cffi>=1.0.1->argon2-cffi-bindings->argon2-cffi->notebook>=6.0->jupyter_contrib_nbextensions) (2.21)\n",
      "Requirement already satisfied: parso<0.9.0,>=0.8.0 in ./anaconda3/lib/python3.11/site-packages (from jedi>=0.16->ipython>=7.23.1->ipykernel->notebook>=6.0->jupyter_contrib_nbextensions) (0.8.3)\n",
      "Requirement already satisfied: wcwidth in ./anaconda3/lib/python3.11/site-packages (from prompt-toolkit!=3.0.37,<3.1.0,>=3.0.30->ipython>=7.23.1->ipykernel->notebook>=6.0->jupyter_contrib_nbextensions) (0.2.5)\n",
      "Requirement already satisfied: executing in ./anaconda3/lib/python3.11/site-packages (from stack-data->ipython>=7.23.1->ipykernel->notebook>=6.0->jupyter_contrib_nbextensions) (0.8.3)\n",
      "Requirement already satisfied: asttokens in ./anaconda3/lib/python3.11/site-packages (from stack-data->ipython>=7.23.1->ipykernel->notebook>=6.0->jupyter_contrib_nbextensions) (2.0.5)\n",
      "Requirement already satisfied: pure-eval in ./anaconda3/lib/python3.11/site-packages (from stack-data->ipython>=7.23.1->ipykernel->notebook>=6.0->jupyter_contrib_nbextensions) (0.2.2)\n",
      "Note: you may need to restart the kernel to use updated packages.\n"
     ]
    }
   ],
   "source": [
    "pip install jupyter_contrib_nbextensions\n"
   ]
  },
  {
   "cell_type": "markdown",
   "id": "c6c9e780",
   "metadata": {},
   "source": [
    "Create two variables and\n",
    "assign them numerical\n",
    "values. View their values in\n",
    "Variable explorer window\n",
    "and print their values.\n",
    "◼ Increase each variable value\n",
    "by 1 and print the updated\n",
    "values."
   ]
  },
  {
   "cell_type": "code",
   "execution_count": 18,
   "id": "5ee00fd7",
   "metadata": {},
   "outputs": [
    {
     "name": "stdout",
     "output_type": "stream",
     "text": [
      "10 15\n"
     ]
    }
   ],
   "source": [
    "a=10\n",
    "b=15\n",
    "print(a,b)"
   ]
  },
  {
   "cell_type": "code",
   "execution_count": 4,
   "id": "6af5f696",
   "metadata": {},
   "outputs": [
    {
     "name": "stdout",
     "output_type": "stream",
     "text": [
      "11 16\n"
     ]
    }
   ],
   "source": [
    "a=11\n",
    "b=16\n",
    "print(a,b)"
   ]
  },
  {
   "cell_type": "markdown",
   "id": "aee83b7e",
   "metadata": {},
   "source": [
    "What is different between changes to string variables and numerical variables?\n",
    "a) we can assign numbers,letters,characters, symbols and words to a string variables but where as in numerical variables we can only assign the numerical values.\n",
    "b)Numerical variables can be divided into continuous variables and discrete variables.\n",
    "c)we can perform most of the statistical calculations using numerical variables and a few using string variables."
   ]
  },
  {
   "cell_type": "markdown",
   "id": "8b7080f5",
   "metadata": {},
   "source": [
    "Python Exercise – Part 1.2\n",
    "Data Structures"
   ]
  },
  {
   "cell_type": "markdown",
   "id": "b897b440",
   "metadata": {},
   "source": [
    "Define 2 lists of length 5 (L1\n",
    "and L2), one of people\n",
    "names and the other of\n",
    "people ages\n",
    "• Display a few properties of\n",
    "each list\n",
    "• Print every other element in\n",
    "the two lists"
   ]
  },
  {
   "cell_type": "code",
   "execution_count": 5,
   "id": "89e0b16b",
   "metadata": {},
   "outputs": [
    {
     "name": "stdout",
     "output_type": "stream",
     "text": [
      "['akash', 'priya', 'ganesh', 'sivesh', 'virat', 'vijay']\n",
      "['akash', 'priya', 'ganesh', 'sivesh', 'virat']\n",
      "akash 22\n",
      "priya 21\n",
      "ganesh 22\n",
      "sivesh 23\n",
      "virat 34\n",
      "['akash', 'priya', 'ganesh', 'sivesh', 'virat', 22, 21, 22, 23, 34]\n",
      "[22, 21, 22, 23, 34, 45]\n",
      "[22, 21, 22, 23, 34]\n"
     ]
    }
   ],
   "source": [
    "l1=[\"akash\",\"priya\",\"ganesh\",\"sivesh\",\"virat\"]\n",
    "l2=[22,21,22,23,34]\n",
    "\n",
    "l1.append(\"vijay\")\n",
    "print(l1)\n",
    "\n",
    "l1.pop()\n",
    "print(l1)\n",
    "\n",
    "for i in range(len(l1)):\n",
    "    print(l1[i],l2[i])\n",
    "\n",
    "\n",
    "l1.extend(l2)\n",
    "print(l1)\n",
    "\n",
    "l2.append(45)\n",
    "print(l2)\n",
    "\n",
    "l2.pop()\n",
    "print(l2)\n"
   ]
  },
  {
   "cell_type": "markdown",
   "id": "34c300ad",
   "metadata": {},
   "source": [
    "Create a dict object from the\n",
    "two lists, and update\n",
    "everybody’s age (e.g.,\n",
    "increase their age by 1)"
   ]
  },
  {
   "cell_type": "code",
   "execution_count": 6,
   "id": "5a12f866",
   "metadata": {},
   "outputs": [
    {
     "name": "stdout",
     "output_type": "stream",
     "text": [
      "{'akash': 23, 'priya': 22, 'ganesh': 23, 'sivesh': 24, 'virat': 35}\n"
     ]
    }
   ],
   "source": [
    "d1={}\n",
    "l1=[\"akash\",\"priya\",\"ganesh\",\"sivesh\",\"virat\"]\n",
    "l2=[22,21,22,23,34]\n",
    "\n",
    "for i in range(len(l1)):\n",
    "    d1[l1[i]]=l2[i]+1\n",
    "print(d1)"
   ]
  },
  {
   "cell_type": "markdown",
   "id": "74bf93ec",
   "metadata": {},
   "source": [
    "Create a new list of unique\n",
    "values in L2"
   ]
  },
  {
   "cell_type": "code",
   "execution_count": 7,
   "id": "9ac03fb7",
   "metadata": {},
   "outputs": [
    {
     "name": "stdout",
     "output_type": "stream",
     "text": [
      "[21, 22, 23, 34]\n"
     ]
    }
   ],
   "source": [
    "l2=list(set(l2))\n",
    "print(sorted(l2))"
   ]
  },
  {
   "cell_type": "markdown",
   "id": "df253c71",
   "metadata": {},
   "source": [
    "Create a new list from L2\n",
    "with each element showing\n",
    "its difference from the\n",
    "mean (or average) of the list\n",
    "L2\n",
    "◼ Use a function\n",
    "◼ Use a list comprehension"
   ]
  },
  {
   "cell_type": "code",
   "execution_count": 8,
   "id": "310535a5",
   "metadata": {},
   "outputs": [
    {
     "name": "stdout",
     "output_type": "stream",
     "text": [
      "[9, -4, -3, -2]\n",
      "[9, -4, -3, -2]\n"
     ]
    }
   ],
   "source": [
    "l3=[]\n",
    "def mean_(lst):\n",
    "    return sum(l2)//len(l2)\n",
    "x=mean_(l2)\n",
    "\n",
    "for i in l2:\n",
    "    l3.append(i-x)\n",
    "print(l3)\n",
    "\n",
    "#using list comprehension\n",
    "l4=[x-(sum(l2)//len(l2)) for x in l2]\n",
    "print(l4)"
   ]
  },
  {
   "cell_type": "markdown",
   "id": "9008ebaf",
   "metadata": {},
   "source": [
    "Create a 50-member 1-\n",
    "dimensional array"
   ]
  },
  {
   "cell_type": "markdown",
   "id": "4cc67263",
   "metadata": {},
   "source": [
    "Reshape the array to have\n",
    "only 5 columns\n",
    "• Return the 3rd column of the\n",
    "new array\n",
    "• Return a new array with the\n",
    "square value of every\n",
    "member of the array"
   ]
  },
  {
   "cell_type": "code",
   "execution_count": 9,
   "id": "933d8af7",
   "metadata": {},
   "outputs": [
    {
     "name": "stdout",
     "output_type": "stream",
     "text": [
      "[ 0  1  2  3  4  5  6  7  8  9 10 11 12 13 14 15 16 17 18 19 20 21 22 23\n",
      " 24 25 26 27 28 29 30 31 32 33 34 35 36 37 38 39 40 41 42 43 44 45 46 47\n",
      " 48 49]\n",
      "50\n",
      "[[ 0  1  2  3  4]\n",
      " [ 5  6  7  8  9]\n",
      " [10 11 12 13 14]\n",
      " [15 16 17 18 19]\n",
      " [20 21 22 23 24]\n",
      " [25 26 27 28 29]\n",
      " [30 31 32 33 34]\n",
      " [35 36 37 38 39]\n",
      " [40 41 42 43 44]\n",
      " [45 46 47 48 49]]\n"
     ]
    }
   ],
   "source": [
    "import numpy as np\n",
    "l5=np.arange(0,50)\n",
    "print(l5)\n",
    "n=l5.size\n",
    "print(n)\n",
    "m=5 #no of columns\n",
    "z=np.reshape(l5,(10,m))\n",
    "print(z)"
   ]
  },
  {
   "cell_type": "code",
   "execution_count": 10,
   "id": "a544d1cd",
   "metadata": {},
   "outputs": [
    {
     "name": "stdout",
     "output_type": "stream",
     "text": [
      "[[ 0  1  2  3  4]\n",
      " [ 5  6  7  8  9]\n",
      " [10 11 12 13 14]\n",
      " [15 16 17 18 19]\n",
      " [20 21 22 23 24]\n",
      " [25 26 27 28 29]\n",
      " [30 31 32 33 34]\n",
      " [35 36 37 38 39]\n",
      " [40 41 42 43 44]\n",
      " [45 46 47 48 49]]\n",
      "[ 2  7 12 17 22 27 32 37 42 47]\n"
     ]
    }
   ],
   "source": [
    "print(z)\n",
    "print(z[:,2])"
   ]
  },
  {
   "cell_type": "code",
   "execution_count": 11,
   "id": "a659b5fb",
   "metadata": {},
   "outputs": [
    {
     "name": "stdout",
     "output_type": "stream",
     "text": [
      "[[   0    1    4    9   16]\n",
      " [  25   36   49   64   81]\n",
      " [ 100  121  144  169  196]\n",
      " [ 225  256  289  324  361]\n",
      " [ 400  441  484  529  576]\n",
      " [ 625  676  729  784  841]\n",
      " [ 900  961 1024 1089 1156]\n",
      " [1225 1296 1369 1444 1521]\n",
      " [1600 1681 1764 1849 1936]\n",
      " [2025 2116 2209 2304 2401]]\n",
      "2\n"
     ]
    }
   ],
   "source": [
    "z1=np.square(z)\n",
    "print(z1)\n",
    "print(z1.ndim)"
   ]
  },
  {
   "cell_type": "markdown",
   "id": "5b3a427e",
   "metadata": {},
   "source": [
    "Multiply a scalar value by\n",
    "every member of the array\n",
    "◼ Create a new array with\n",
    "only numbers > 10\n",
    "◼ What is the sum of those\n",
    "values\n",
    "◼ Generate some statistics of\n",
    "the two axes\n",
    ".Week 1 ENPM808L Analytics for Decision Support 48\n"
   ]
  },
  {
   "cell_type": "code",
   "execution_count": 12,
   "id": "cdc45ae9",
   "metadata": {},
   "outputs": [
    {
     "name": "stdout",
     "output_type": "stream",
     "text": [
      "[[ 0  1  2  3  4]\n",
      " [ 5  6  7  8  9]\n",
      " [10 11 12 13 14]\n",
      " [15 16 17 18 19]\n",
      " [20 21 22 23 24]\n",
      " [25 26 27 28 29]\n",
      " [30 31 32 33 34]\n",
      " [35 36 37 38 39]\n",
      " [40 41 42 43 44]\n",
      " [45 46 47 48 49]]\n",
      "[[ 0  2  4  6  8]\n",
      " [10 12 14 16 18]\n",
      " [20 22 24 26 28]\n",
      " [30 32 34 36 38]\n",
      " [40 42 44 46 48]\n",
      " [50 52 54 56 58]\n",
      " [60 62 64 66 68]\n",
      " [70 72 74 76 78]\n",
      " [80 82 84 86 88]\n",
      " [90 92 94 96 98]]\n"
     ]
    }
   ],
   "source": [
    "x=2 #scalar value\n",
    "print(z)\n",
    "z2=z*2\n",
    "print(z2)"
   ]
  },
  {
   "cell_type": "code",
   "execution_count": 13,
   "id": "e26b27bd",
   "metadata": {},
   "outputs": [
    {
     "name": "stdout",
     "output_type": "stream",
     "text": [
      "[[ 0  2  4  6  8 10 12 14 16 18 20 22 24 26 28 30 32 34 36 38 40 42 44 46\n",
      "  48 50 52 54 56 58 60 62 64 66 68 70 72 74 76 78 80 82 84 86 88 90 92 94\n",
      "  96 98]]\n",
      "[12, 14, 16, 18, 20, 22, 24, 26, 28, 30, 32, 34, 36, 38, 40, 42, 44, 46, 48, 50, 52, 54, 56, 58, 60, 62, 64, 66, 68, 70, 72, 74, 76, 78, 80, 82, 84, 86, 88, 90, 92, 94, 96, 98]\n",
      "2420\n"
     ]
    }
   ],
   "source": [
    "one_dimensional=np.reshape(z2,(1,50))\n",
    "print(one_dimensional)\n",
    "numbers_greater_than=[]\n",
    "for i in one_dimensional[0]:\n",
    "    if i>10:\n",
    "        numbers_greater_than.append(i)\n",
    "print(numbers_greater_than)\n",
    "\n",
    "print(np.sum(numbers_greater_than))"
   ]
  },
  {
   "cell_type": "code",
   "execution_count": 14,
   "id": "edd6af76",
   "metadata": {
    "scrolled": false
   },
   "outputs": [
    {
     "name": "stdout",
     "output_type": "stream",
     "text": [
      "[[ 0  2  4  6  8]\n",
      " [10 12 14 16 18]\n",
      " [20 22 24 26 28]\n",
      " [30 32 34 36 38]\n",
      " [40 42 44 46 48]\n",
      " [50 52 54 56 58]\n",
      " [60 62 64 66 68]\n",
      " [70 72 74 76 78]\n",
      " [80 82 84 86 88]\n",
      " [90 92 94 96 98]]\n",
      "-----------\n",
      "np.median(z2) 49.0\n",
      "np.median(z2,axis=0) [45. 47. 49. 51. 53.]\n",
      "np.median(z2,axis=1) [ 4. 14. 24. 34. 44. 54. 64. 74. 84. 94.]\n",
      "-----------\n",
      "49.0\n",
      "[45. 47. 49. 51. 53.]\n",
      "[ 4. 14. 24. 34. 44. 54. 64. 74. 84. 94.]\n",
      "-----------\n",
      "28.861739379323623\n",
      "[28.72281323 28.72281323 28.72281323 28.72281323 28.72281323]\n",
      "[2.82842712 2.82842712 2.82842712 2.82842712 2.82842712 2.82842712\n",
      " 2.82842712 2.82842712 2.82842712 2.82842712]\n",
      "-----------\n",
      "833.0\n",
      "[825. 825. 825. 825. 825.]\n",
      "[8. 8. 8. 8. 8. 8. 8. 8. 8. 8.]\n",
      "-----------\n",
      "49.0\n",
      "[45. 47. 49. 51. 53.]\n",
      "[ 4. 14. 24. 34. 44. 54. 64. 74. 84. 94.]\n",
      "-----------\n",
      "98\n",
      "[90 90 90 90 90]\n",
      "[8 8 8 8 8 8 8 8 8 8]\n"
     ]
    }
   ],
   "source": [
    "print(z2)\n",
    "print(\"-----------\")\n",
    "print(\"np.median(z2)\",np.median(z2))\n",
    "print(\"np.median(z2,axis=0)\", np.median(z2,axis=0))\n",
    "print(\"np.median(z2,axis=1)\", np.median(z2,axis=1))\n",
    "\n",
    "print(\"-----------\")\n",
    "print(np.mean(z2))\n",
    "print(np.mean(z2,axis=0))\n",
    "print(np.mean(z2,axis=1))\n",
    "\n",
    "print(\"-----------\")\n",
    "print(np.std(z2))\n",
    "print(np.std(z2,axis=0))\n",
    "print(np.std(z2,axis=1))\n",
    "\n",
    "print(\"-----------\")\n",
    "print(np.var(z2))\n",
    "print(np.var(z2,axis=0))\n",
    "print(np.var(z2,axis=1))\n",
    "\n",
    "\n",
    "print(\"-----------\")\n",
    "print(np.average(z2))\n",
    "print(np.average(z2,axis=0))\n",
    "print(np.average(z2,axis=1))\n",
    "\n",
    "print(\"-----------\")\n",
    "print(np.ptp(z2))\n",
    "print(np.ptp(z2,axis=0))\n",
    "print(np.ptp(z2,axis=1))\n"
   ]
  },
  {
   "cell_type": "markdown",
   "id": "f42ebca4",
   "metadata": {},
   "source": [
    "Python Exercise – Part 1.4\n",
    "Read A File, Display Histogram"
   ]
  },
  {
   "cell_type": "markdown",
   "id": "d538edac",
   "metadata": {},
   "source": [
    "Create a function that reads\n",
    "a csv file and creates a list of\n",
    "the data contained in the\n",
    "file. (filename should be in\n",
    "the argument list): hint:\n",
    "import csv module\n",
    "with open(filename, 'r') as f:\n",
    "lreader = csv.reader(f)\n",
    "dlist = list(lreader)"
   ]
  },
  {
   "cell_type": "code",
   "execution_count": 15,
   "id": "8d85e6f9",
   "metadata": {
    "scrolled": false
   },
   "outputs": [
    {
     "data": {
      "text/html": [
       "<div>\n",
       "<style scoped>\n",
       "    .dataframe tbody tr th:only-of-type {\n",
       "        vertical-align: middle;\n",
       "    }\n",
       "\n",
       "    .dataframe tbody tr th {\n",
       "        vertical-align: top;\n",
       "    }\n",
       "\n",
       "    .dataframe thead th {\n",
       "        text-align: right;\n",
       "    }\n",
       "</style>\n",
       "<table border=\"1\" class=\"dataframe\">\n",
       "  <thead>\n",
       "    <tr style=\"text-align: right;\">\n",
       "      <th></th>\n",
       "      <th>Name</th>\n",
       "      <th>Gender</th>\n",
       "      <th>Count</th>\n",
       "    </tr>\n",
       "  </thead>\n",
       "  <tbody>\n",
       "    <tr>\n",
       "      <th>0</th>\n",
       "      <td>Mary</td>\n",
       "      <td>F</td>\n",
       "      <td>7065</td>\n",
       "    </tr>\n",
       "    <tr>\n",
       "      <th>1</th>\n",
       "      <td>Anna</td>\n",
       "      <td>F</td>\n",
       "      <td>2604</td>\n",
       "    </tr>\n",
       "    <tr>\n",
       "      <th>2</th>\n",
       "      <td>Emma</td>\n",
       "      <td>F</td>\n",
       "      <td>2003</td>\n",
       "    </tr>\n",
       "    <tr>\n",
       "      <th>3</th>\n",
       "      <td>Elizabeth</td>\n",
       "      <td>F</td>\n",
       "      <td>1939</td>\n",
       "    </tr>\n",
       "    <tr>\n",
       "      <th>4</th>\n",
       "      <td>Minnie</td>\n",
       "      <td>F</td>\n",
       "      <td>1746</td>\n",
       "    </tr>\n",
       "  </tbody>\n",
       "</table>\n",
       "</div>"
      ],
      "text/plain": [
       "        Name Gender  Count\n",
       "0       Mary      F   7065\n",
       "1       Anna      F   2604\n",
       "2       Emma      F   2003\n",
       "3  Elizabeth      F   1939\n",
       "4     Minnie      F   1746"
      ]
     },
     "execution_count": 15,
     "metadata": {},
     "output_type": "execute_result"
    }
   ],
   "source": [
    "import csv \n",
    "import pandas as pd\n",
    "file=open( \"yob1880.txt\", \"r\")\n",
    "df=pd.read_csv(\"yob1880.txt\",header=None) \n",
    "df.rename(columns={0: 'Name', 1: 'Gender', 2:'Count'}, inplace=True)\n",
    "df.head()\n"
   ]
  },
  {
   "cell_type": "code",
   "execution_count": 16,
   "id": "9a2ccdc1",
   "metadata": {},
   "outputs": [],
   "source": [
    "names=list(df.Name)\n",
    "gender=list(df.Gender)\n",
    "count=list(df.Count)\n"
   ]
  },
  {
   "cell_type": "markdown",
   "id": "c5b3221e",
   "metadata": {},
   "source": [
    "Plot a histogram of the\n",
    "Names and Counts of\n",
    "names using matplotlib"
   ]
  },
  {
   "cell_type": "code",
   "execution_count": 21,
   "id": "8e5b04fe",
   "metadata": {},
   "outputs": [
    {
     "data": {
      "image/png": "[encoded data removed]",
      "text/plain": [
       "<Figure size 1000x600 with 1 Axes>"
      ]
     },
     "metadata": {},
     "output_type": "display_data"
    }
   ],
   "source": [
    "import pandas as pd\n",
    "import matplotlib.pyplot as plt\n",
    "\n",
    "\n",
    "df2 = df.iloc[:10]\n",
    "\n",
    "plt.figure(figsize=(10, 6))\n",
    "plt.hist(df[\"Count\"], bins=10, color='skyblue', edgecolor='black')\n",
    "plt.xlabel('Names')\n",
    "plt.ylabel('Count')\n",
    "plt.title('Histogram of Counts')\n",
    "plt.grid(axis='y', linestyle='--', alpha=0.7)\n",
    "\n",
    "plt.tight_layout()\n",
    "plt.show()"
   ]
  },
  {
   "cell_type": "code",
   "execution_count": null,
   "id": "ca8d076f",
   "metadata": {},
   "outputs": [],
   "source": []
  }
 ],
 "metadata": {
  "kernelspec": {
   "display_name": "Python 3 (ipykernel)",
   "language": "python",
   "name": "python3"
  },
  "language_info": {
   "codemirror_mode": {
    "name": "ipython",
    "version": 3
   },
   "file_extension": ".py",
   "mimetype": "text/x-python",
   "name": "python",
   "nbconvert_exporter": "python",
   "pygments_lexer": "ipython3",
   "version": "3.11.4"
  },
  "varInspector": {
   "cols": {
    "lenName": 16,
    "lenType": 16,
    "lenVar": 40
   },
   "kernels_config": {
    "python": {
     "delete_cmd_postfix": "",
     "delete_cmd_prefix": "del ",
     "library": "var_list.py",
     "varRefreshCmd": "print(var_dic_list())"
    },
    "r": {
     "delete_cmd_postfix": ") ",
     "delete_cmd_prefix": "rm(",
     "library": "var_list.r",
     "varRefreshCmd": "cat(var_dic_list()) "
    }
   },
   "oldHeight": 122.852,
   "position": {
    "height": "144.852px",
    "left": "1100px",
    "right": "20px",
    "top": "120px",
    "width": "350px"
   },
   "types_to_exclude": [
    "module",
    "function",
    "builtin_function_or_method",
    "instance",
    "_Feature"
   ],
   "varInspector_section_display": "block",
   "window_display": false
  }
 },
 "nbformat": 4,
 "nbformat_minor": 5
}
