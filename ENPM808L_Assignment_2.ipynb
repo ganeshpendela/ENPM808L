{
  "nbformat": 4,
  "nbformat_minor": 0,
  "metadata": {
    "colab": {
      "provenance": []
    },
    "kernelspec": {
      "name": "python3",
      "display_name": "Python 3"
    },
    "language_info": {
      "name": "python"
    }
  },
  "cells": [
    {
      "cell_type": "code",
      "execution_count": 19,
      "metadata": {
        "colab": {
          "base_uri": "https://localhost:8080/"
        },
        "id": "QWYZ9N5DEVEd",
        "outputId": "b119dc8d-6ea0-400b-a3ef-ce8e2f7295dd"
      },
      "outputs": [
        {
          "output_type": "stream",
          "name": "stdout",
          "text": [
            "     Sepal Length  Sepal Width  Petal Length  Petal Width      Class\n",
            "0             4.3          3.0           1.1          0.1     setosa\n",
            "1             4.4          2.9           1.4          0.2     setosa\n",
            "2             4.4          3.0           1.3          0.2     setosa\n",
            "3             4.4          3.2           1.3          0.2     setosa\n",
            "4             4.5          2.3           1.3          0.3     setosa\n",
            "..            ...          ...           ...          ...        ...\n",
            "145           7.7          2.6           6.9          2.3  virginica\n",
            "146           7.7          2.8           6.7          2.0  virginica\n",
            "147           7.7          3.0           6.1          2.3  virginica\n",
            "148           7.7          3.8           6.7          2.2  virginica\n",
            "149           7.9          3.8           6.4          2.0  virginica\n",
            "\n",
            "[150 rows x 5 columns]\n"
          ]
        }
      ],
      "source": [
        "#importing packages\n",
        "import sklearn\n",
        "import csv\n",
        "import pandas as pd\n",
        "from sklearn.model_selection import train_test_split\n",
        "from sklearn.tree import DecisionTreeClassifier\n",
        "from sklearn.metrics import accuracy_score\n",
        "from sklearn import tree\n",
        "\n",
        "\n",
        "\n",
        "#read the csv file\n",
        "data = pd.read_csv(r'/IrisNew.csv')\n",
        "df = pd.DataFrame(data, columns=[\"Sepal Length\",\"Sepal Width\",\"Petal Length\",\"Petal Width\",\"Class\"])\n",
        "print(df)"
      ]
    },
    {
      "cell_type": "code",
      "source": [
        "#split the data into training and testing\n",
        "X = df.values[:,0:4] # first 4 columns are independent variables\n",
        "Y = df.values[:,4] # last column is dependent variable\n",
        "X_train, X_test, y_train, y_test = train_test_split(X, Y, test_size = 0.3,random_state=100)\n",
        "#test size = 70% training and 30 percent testing\n"
      ],
      "metadata": {
        "id": "tjRVJbqiTDW1"
      },
      "execution_count": 20,
      "outputs": []
    },
    {
      "cell_type": "code",
      "source": [
        "#building a decision tree model using entropy\n",
        "clf_entropy = DecisionTreeClassifier(criterion = \"entropy\",random_state = 100)\n",
        "clf_entropy.fit(X_train, y_train)\n",
        "y_pred = clf_entropy.predict(X_test)\n",
        "print(\"Predicted values:\")\n",
        "print(y_pred)\n",
        "print (\"Accuracy : \", accuracy_score(y_test,y_pred)*100)\n"
      ],
      "metadata": {
        "id": "_VyLla1l-jnP",
        "colab": {
          "base_uri": "https://localhost:8080/"
        },
        "outputId": "b20b28fe-612c-460d-fd5b-b13bca2aff81"
      },
      "execution_count": 21,
      "outputs": [
        {
          "output_type": "stream",
          "name": "stdout",
          "text": [
            "Predicted values:\n",
            "['virginica' 'setosa' 'virginica' 'setosa' 'virginica' 'virginica'\n",
            " 'versicolor' 'setosa' 'virginica' 'setosa' 'setosa' 'versicolor' 'setosa'\n",
            " 'setosa' 'virginica' 'versicolor' 'versicolor' 'virginica' 'virginica'\n",
            " 'virginica' 'versicolor' 'setosa' 'virginica' 'setosa' 'versicolor'\n",
            " 'virginica' 'versicolor' 'setosa' 'versicolor' 'versicolor' 'virginica'\n",
            " 'versicolor' 'virginica' 'setosa' 'versicolor' 'setosa' 'versicolor'\n",
            " 'versicolor' 'virginica' 'virginica' 'versicolor' 'versicolor'\n",
            " 'virginica' 'virginica' 'setosa']\n",
            "Accuracy :  95.55555555555556\n"
          ]
        }
      ]
    },
    {
      "cell_type": "code",
      "source": [
        "#building a decision tree model using gini index\n",
        "clf_gini = DecisionTreeClassifier(criterion = \"gini\",\n",
        "            random_state = 100)\n",
        "clf_gini.fit(X_train, y_train)\n",
        "y_pred = clf_gini.predict(X_test)\n",
        "print(\"Predicted values:\")\n",
        "print(y_pred)\n",
        "print (\"Accuracy : \", accuracy_score(y_test,y_pred)*100)"
      ],
      "metadata": {
        "id": "hU7WFhj4uAmz",
        "colab": {
          "base_uri": "https://localhost:8080/"
        },
        "outputId": "36b16bf8-e3b8-4830-94df-6bb3f68675ba"
      },
      "execution_count": 22,
      "outputs": [
        {
          "output_type": "stream",
          "name": "stdout",
          "text": [
            "Predicted values:\n",
            "['virginica' 'setosa' 'virginica' 'setosa' 'virginica' 'virginica'\n",
            " 'versicolor' 'setosa' 'virginica' 'setosa' 'setosa' 'versicolor' 'setosa'\n",
            " 'setosa' 'virginica' 'versicolor' 'versicolor' 'virginica' 'virginica'\n",
            " 'virginica' 'versicolor' 'setosa' 'virginica' 'setosa' 'versicolor'\n",
            " 'virginica' 'versicolor' 'setosa' 'versicolor' 'versicolor' 'virginica'\n",
            " 'versicolor' 'virginica' 'setosa' 'versicolor' 'setosa' 'versicolor'\n",
            " 'versicolor' 'virginica' 'virginica' 'versicolor' 'versicolor'\n",
            " 'virginica' 'virginica' 'setosa']\n",
            "Accuracy :  95.55555555555556\n"
          ]
        }
      ]
    },
    {
      "cell_type": "code",
      "source": [
        "#Plotting the results using graphviz using criterion using as entropy\n",
        "import graphviz\n",
        "feature_cols = ['Sepal Length', 'Sepal Width', 'Petal Length', 'Petal Width']\n",
        "dot_data = tree.export_graphviz(clf_entropy, out_file=None,feature_names = feature_cols,\n",
        " class_names=['setosa','versicolor','virginica'], filled=True, rounded=True, special_characters=True)\n",
        "graph = graphviz.Source(dot_data)\n",
        "graph\n"
      ],
      "metadata": {
        "id": "E6CRsoPhwQJ-",
        "colab": {
          "base_uri": "https://localhost:8080/",
          "height": 916
        },
        "outputId": "a181f650-23fe-4ff6-fe45-73d04ba75c6d"
      },
      "execution_count": 23,
      "outputs": [
        {
          "output_type": "execute_result",
          "data": {
            "image/svg+xml": "<?xml version=\"1.0\" encoding=\"UTF-8\" standalone=\"no\"?>\n<!DOCTYPE svg PUBLIC \"-//W3C//DTD SVG 1.1//EN\"\n \"http://www.w3.org/Graphics/SVG/1.1/DTD/svg11.dtd\">\n<!-- Generated by graphviz version 2.43.0 (0)\n -->\n<!-- Title: Tree Pages: 1 -->\n<svg width=\"615pt\" height=\"671pt\"\n viewBox=\"0.00 0.00 615.00 671.00\" xmlns=\"http://www.w3.org/2000/svg\" xmlns:xlink=\"http://www.w3.org/1999/xlink\">\n<g id=\"graph0\" class=\"graph\" transform=\"scale(1 1) rotate(0) translate(4 667)\">\n<title>Tree</title>\n<polygon fill=\"white\" stroke=\"transparent\" points=\"-4,4 -4,-667 611,-667 611,4 -4,4\"/>\n<!-- 0 -->\n<g id=\"node1\" class=\"node\">\n<title>0</title>\n<path fill=\"#fefbf9\" stroke=\"black\" d=\"M317.5,-663C317.5,-663 209.5,-663 209.5,-663 203.5,-663 197.5,-657 197.5,-651 197.5,-651 197.5,-592 197.5,-592 197.5,-586 203.5,-580 209.5,-580 209.5,-580 317.5,-580 317.5,-580 323.5,-580 329.5,-586 329.5,-592 329.5,-592 329.5,-651 329.5,-651 329.5,-657 323.5,-663 317.5,-663\"/>\n<text text-anchor=\"start\" x=\"208.5\" y=\"-647.8\" font-family=\"Helvetica,sans-Serif\" font-size=\"14.00\">Petal Length ≤ 2.5</text>\n<text text-anchor=\"start\" x=\"216\" y=\"-632.8\" font-family=\"Helvetica,sans-Serif\" font-size=\"14.00\">entropy = 1.583</text>\n<text text-anchor=\"start\" x=\"218.5\" y=\"-617.8\" font-family=\"Helvetica,sans-Serif\" font-size=\"14.00\">samples = 105</text>\n<text text-anchor=\"start\" x=\"205.5\" y=\"-602.8\" font-family=\"Helvetica,sans-Serif\" font-size=\"14.00\">value = [37, 35, 33]</text>\n<text text-anchor=\"start\" x=\"220\" y=\"-587.8\" font-family=\"Helvetica,sans-Serif\" font-size=\"14.00\">class = setosa</text>\n</g>\n<!-- 1 -->\n<g id=\"node2\" class=\"node\">\n<title>1</title>\n<path fill=\"#e58139\" stroke=\"black\" d=\"M240,-536.5C240,-536.5 147,-536.5 147,-536.5 141,-536.5 135,-530.5 135,-524.5 135,-524.5 135,-480.5 135,-480.5 135,-474.5 141,-468.5 147,-468.5 147,-468.5 240,-468.5 240,-468.5 246,-468.5 252,-474.5 252,-480.5 252,-480.5 252,-524.5 252,-524.5 252,-530.5 246,-536.5 240,-536.5\"/>\n<text text-anchor=\"start\" x=\"153.5\" y=\"-521.3\" font-family=\"Helvetica,sans-Serif\" font-size=\"14.00\">entropy = 0.0</text>\n<text text-anchor=\"start\" x=\"152.5\" y=\"-506.3\" font-family=\"Helvetica,sans-Serif\" font-size=\"14.00\">samples = 37</text>\n<text text-anchor=\"start\" x=\"143\" y=\"-491.3\" font-family=\"Helvetica,sans-Serif\" font-size=\"14.00\">value = [37, 0, 0]</text>\n<text text-anchor=\"start\" x=\"150\" y=\"-476.3\" font-family=\"Helvetica,sans-Serif\" font-size=\"14.00\">class = setosa</text>\n</g>\n<!-- 0&#45;&gt;1 -->\n<g id=\"edge1\" class=\"edge\">\n<title>0&#45;&gt;1</title>\n<path fill=\"none\" stroke=\"black\" d=\"M239.21,-579.91C232.55,-568.76 225.3,-556.66 218.59,-545.44\"/>\n<polygon fill=\"black\" stroke=\"black\" points=\"221.48,-543.45 213.34,-536.67 215.47,-547.05 221.48,-543.45\"/>\n<text text-anchor=\"middle\" x=\"207.25\" y=\"-557.21\" font-family=\"Helvetica,sans-Serif\" font-size=\"14.00\">True</text>\n</g>\n<!-- 2 -->\n<g id=\"node3\" class=\"node\">\n<title>2</title>\n<path fill=\"#f4fef8\" stroke=\"black\" d=\"M386.5,-544C386.5,-544 282.5,-544 282.5,-544 276.5,-544 270.5,-538 270.5,-532 270.5,-532 270.5,-473 270.5,-473 270.5,-467 276.5,-461 282.5,-461 282.5,-461 386.5,-461 386.5,-461 392.5,-461 398.5,-467 398.5,-473 398.5,-473 398.5,-532 398.5,-532 398.5,-538 392.5,-544 386.5,-544\"/>\n<text text-anchor=\"start\" x=\"278.5\" y=\"-528.8\" font-family=\"Helvetica,sans-Serif\" font-size=\"14.00\">Petal Width ≤ 1.65</text>\n<text text-anchor=\"start\" x=\"287\" y=\"-513.8\" font-family=\"Helvetica,sans-Serif\" font-size=\"14.00\">entropy = 0.999</text>\n<text text-anchor=\"start\" x=\"293.5\" y=\"-498.8\" font-family=\"Helvetica,sans-Serif\" font-size=\"14.00\">samples = 68</text>\n<text text-anchor=\"start\" x=\"280\" y=\"-483.8\" font-family=\"Helvetica,sans-Serif\" font-size=\"14.00\">value = [0, 35, 33]</text>\n<text text-anchor=\"start\" x=\"282\" y=\"-468.8\" font-family=\"Helvetica,sans-Serif\" font-size=\"14.00\">class = versicolor</text>\n</g>\n<!-- 0&#45;&gt;2 -->\n<g id=\"edge2\" class=\"edge\">\n<title>0&#45;&gt;2</title>\n<path fill=\"none\" stroke=\"black\" d=\"M288.13,-579.91C293.47,-571.1 299.18,-561.7 304.7,-552.61\"/>\n<polygon fill=\"black\" stroke=\"black\" points=\"307.71,-554.39 309.91,-544.02 301.73,-550.75 307.71,-554.39\"/>\n<text text-anchor=\"middle\" x=\"315.85\" y=\"-564.6\" font-family=\"Helvetica,sans-Serif\" font-size=\"14.00\">False</text>\n</g>\n<!-- 3 -->\n<g id=\"node4\" class=\"node\">\n<title>3</title>\n<path fill=\"#4ae78c\" stroke=\"black\" d=\"M313.5,-425C313.5,-425 203.5,-425 203.5,-425 197.5,-425 191.5,-419 191.5,-413 191.5,-413 191.5,-354 191.5,-354 191.5,-348 197.5,-342 203.5,-342 203.5,-342 313.5,-342 313.5,-342 319.5,-342 325.5,-348 325.5,-354 325.5,-354 325.5,-413 325.5,-413 325.5,-419 319.5,-425 313.5,-425\"/>\n<text text-anchor=\"start\" x=\"199.5\" y=\"-409.8\" font-family=\"Helvetica,sans-Serif\" font-size=\"14.00\">Petal Length ≤ 4.95</text>\n<text text-anchor=\"start\" x=\"211\" y=\"-394.8\" font-family=\"Helvetica,sans-Serif\" font-size=\"14.00\">entropy = 0.406</text>\n<text text-anchor=\"start\" x=\"217.5\" y=\"-379.8\" font-family=\"Helvetica,sans-Serif\" font-size=\"14.00\">samples = 37</text>\n<text text-anchor=\"start\" x=\"208\" y=\"-364.8\" font-family=\"Helvetica,sans-Serif\" font-size=\"14.00\">value = [0, 34, 3]</text>\n<text text-anchor=\"start\" x=\"206\" y=\"-349.8\" font-family=\"Helvetica,sans-Serif\" font-size=\"14.00\">class = versicolor</text>\n</g>\n<!-- 2&#45;&gt;3 -->\n<g id=\"edge3\" class=\"edge\">\n<title>2&#45;&gt;3</title>\n<path fill=\"none\" stroke=\"black\" d=\"M308.13,-460.91C302.41,-452.1 296.31,-442.7 290.4,-433.61\"/>\n<polygon fill=\"black\" stroke=\"black\" points=\"293.2,-431.5 284.82,-425.02 287.33,-435.31 293.2,-431.5\"/>\n</g>\n<!-- 10 -->\n<g id=\"node11\" class=\"node\">\n<title>10</title>\n<path fill=\"#8540e6\" stroke=\"black\" d=\"M465.5,-425C465.5,-425 355.5,-425 355.5,-425 349.5,-425 343.5,-419 343.5,-413 343.5,-413 343.5,-354 343.5,-354 343.5,-348 349.5,-342 355.5,-342 355.5,-342 465.5,-342 465.5,-342 471.5,-342 477.5,-348 477.5,-354 477.5,-354 477.5,-413 477.5,-413 477.5,-419 471.5,-425 465.5,-425\"/>\n<text text-anchor=\"start\" x=\"351.5\" y=\"-409.8\" font-family=\"Helvetica,sans-Serif\" font-size=\"14.00\">Petal Length ≤ 4.85</text>\n<text text-anchor=\"start\" x=\"363\" y=\"-394.8\" font-family=\"Helvetica,sans-Serif\" font-size=\"14.00\">entropy = 0.206</text>\n<text text-anchor=\"start\" x=\"369.5\" y=\"-379.8\" font-family=\"Helvetica,sans-Serif\" font-size=\"14.00\">samples = 31</text>\n<text text-anchor=\"start\" x=\"360\" y=\"-364.8\" font-family=\"Helvetica,sans-Serif\" font-size=\"14.00\">value = [0, 1, 30]</text>\n<text text-anchor=\"start\" x=\"362\" y=\"-349.8\" font-family=\"Helvetica,sans-Serif\" font-size=\"14.00\">class = virginica</text>\n</g>\n<!-- 2&#45;&gt;10 -->\n<g id=\"edge10\" class=\"edge\">\n<title>2&#45;&gt;10</title>\n<path fill=\"none\" stroke=\"black\" d=\"M360.87,-460.91C366.59,-452.1 372.69,-442.7 378.6,-433.61\"/>\n<polygon fill=\"black\" stroke=\"black\" points=\"381.67,-435.31 384.18,-425.02 375.8,-431.5 381.67,-435.31\"/>\n</g>\n<!-- 4 -->\n<g id=\"node5\" class=\"node\">\n<title>4</title>\n<path fill=\"#39e581\" stroke=\"black\" d=\"M166,-298.5C166,-298.5 69,-298.5 69,-298.5 63,-298.5 57,-292.5 57,-286.5 57,-286.5 57,-242.5 57,-242.5 57,-236.5 63,-230.5 69,-230.5 69,-230.5 166,-230.5 166,-230.5 172,-230.5 178,-236.5 178,-242.5 178,-242.5 178,-286.5 178,-286.5 178,-292.5 172,-298.5 166,-298.5\"/>\n<text text-anchor=\"start\" x=\"77.5\" y=\"-283.3\" font-family=\"Helvetica,sans-Serif\" font-size=\"14.00\">entropy = 0.0</text>\n<text text-anchor=\"start\" x=\"76.5\" y=\"-268.3\" font-family=\"Helvetica,sans-Serif\" font-size=\"14.00\">samples = 33</text>\n<text text-anchor=\"start\" x=\"67\" y=\"-253.3\" font-family=\"Helvetica,sans-Serif\" font-size=\"14.00\">value = [0, 33, 0]</text>\n<text text-anchor=\"start\" x=\"65\" y=\"-238.3\" font-family=\"Helvetica,sans-Serif\" font-size=\"14.00\">class = versicolor</text>\n</g>\n<!-- 3&#45;&gt;4 -->\n<g id=\"edge4\" class=\"edge\">\n<title>3&#45;&gt;4</title>\n<path fill=\"none\" stroke=\"black\" d=\"M209.58,-341.91C195.22,-329.99 179.53,-316.98 165.25,-305.12\"/>\n<polygon fill=\"black\" stroke=\"black\" points=\"167.4,-302.36 157.47,-298.67 162.93,-307.75 167.4,-302.36\"/>\n</g>\n<!-- 5 -->\n<g id=\"node6\" class=\"node\">\n<title>5</title>\n<path fill=\"#ab7bee\" stroke=\"black\" d=\"M315,-306C315,-306 208,-306 208,-306 202,-306 196,-300 196,-294 196,-294 196,-235 196,-235 196,-229 202,-223 208,-223 208,-223 315,-223 315,-223 321,-223 327,-229 327,-235 327,-235 327,-294 327,-294 327,-300 321,-306 315,-306\"/>\n<text text-anchor=\"start\" x=\"204\" y=\"-290.8\" font-family=\"Helvetica,sans-Serif\" font-size=\"14.00\">Sepal Width ≤ 2.75</text>\n<text text-anchor=\"start\" x=\"214\" y=\"-275.8\" font-family=\"Helvetica,sans-Serif\" font-size=\"14.00\">entropy = 0.811</text>\n<text text-anchor=\"start\" x=\"224\" y=\"-260.8\" font-family=\"Helvetica,sans-Serif\" font-size=\"14.00\">samples = 4</text>\n<text text-anchor=\"start\" x=\"214.5\" y=\"-245.8\" font-family=\"Helvetica,sans-Serif\" font-size=\"14.00\">value = [0, 1, 3]</text>\n<text text-anchor=\"start\" x=\"213\" y=\"-230.8\" font-family=\"Helvetica,sans-Serif\" font-size=\"14.00\">class = virginica</text>\n</g>\n<!-- 3&#45;&gt;5 -->\n<g id=\"edge5\" class=\"edge\">\n<title>3&#45;&gt;5</title>\n<path fill=\"none\" stroke=\"black\" d=\"M259.54,-341.91C259.75,-333.56 259.98,-324.67 260.2,-316.02\"/>\n<polygon fill=\"black\" stroke=\"black\" points=\"263.7,-316.11 260.46,-306.02 256.71,-315.93 263.7,-316.11\"/>\n</g>\n<!-- 6 -->\n<g id=\"node7\" class=\"node\">\n<title>6</title>\n<path fill=\"#ffffff\" stroke=\"black\" d=\"M178.5,-187C178.5,-187 68.5,-187 68.5,-187 62.5,-187 56.5,-181 56.5,-175 56.5,-175 56.5,-116 56.5,-116 56.5,-110 62.5,-104 68.5,-104 68.5,-104 178.5,-104 178.5,-104 184.5,-104 190.5,-110 190.5,-116 190.5,-116 190.5,-175 190.5,-175 190.5,-181 184.5,-187 178.5,-187\"/>\n<text text-anchor=\"start\" x=\"64.5\" y=\"-171.8\" font-family=\"Helvetica,sans-Serif\" font-size=\"14.00\">Petal Length ≤ 5.05</text>\n<text text-anchor=\"start\" x=\"83.5\" y=\"-156.8\" font-family=\"Helvetica,sans-Serif\" font-size=\"14.00\">entropy = 1.0</text>\n<text text-anchor=\"start\" x=\"86\" y=\"-141.8\" font-family=\"Helvetica,sans-Serif\" font-size=\"14.00\">samples = 2</text>\n<text text-anchor=\"start\" x=\"76.5\" y=\"-126.8\" font-family=\"Helvetica,sans-Serif\" font-size=\"14.00\">value = [0, 1, 1]</text>\n<text text-anchor=\"start\" x=\"71\" y=\"-111.8\" font-family=\"Helvetica,sans-Serif\" font-size=\"14.00\">class = versicolor</text>\n</g>\n<!-- 5&#45;&gt;6 -->\n<g id=\"edge6\" class=\"edge\">\n<title>5&#45;&gt;6</title>\n<path fill=\"none\" stroke=\"black\" d=\"M213.62,-222.91C202.49,-213.47 190.55,-203.34 179.11,-193.65\"/>\n<polygon fill=\"black\" stroke=\"black\" points=\"181.18,-190.82 171.29,-187.02 176.66,-196.16 181.18,-190.82\"/>\n</g>\n<!-- 9 -->\n<g id=\"node10\" class=\"node\">\n<title>9</title>\n<path fill=\"#8139e5\" stroke=\"black\" d=\"M310,-179.5C310,-179.5 221,-179.5 221,-179.5 215,-179.5 209,-173.5 209,-167.5 209,-167.5 209,-123.5 209,-123.5 209,-117.5 215,-111.5 221,-111.5 221,-111.5 310,-111.5 310,-111.5 316,-111.5 322,-117.5 322,-123.5 322,-123.5 322,-167.5 322,-167.5 322,-173.5 316,-179.5 310,-179.5\"/>\n<text text-anchor=\"start\" x=\"225.5\" y=\"-164.3\" font-family=\"Helvetica,sans-Serif\" font-size=\"14.00\">entropy = 0.0</text>\n<text text-anchor=\"start\" x=\"228\" y=\"-149.3\" font-family=\"Helvetica,sans-Serif\" font-size=\"14.00\">samples = 2</text>\n<text text-anchor=\"start\" x=\"218.5\" y=\"-134.3\" font-family=\"Helvetica,sans-Serif\" font-size=\"14.00\">value = [0, 0, 2]</text>\n<text text-anchor=\"start\" x=\"217\" y=\"-119.3\" font-family=\"Helvetica,sans-Serif\" font-size=\"14.00\">class = virginica</text>\n</g>\n<!-- 5&#45;&gt;9 -->\n<g id=\"edge9\" class=\"edge\">\n<title>5&#45;&gt;9</title>\n<path fill=\"none\" stroke=\"black\" d=\"M262.89,-222.91C263.25,-212.2 263.65,-200.62 264.02,-189.78\"/>\n<polygon fill=\"black\" stroke=\"black\" points=\"267.52,-189.78 264.37,-179.67 260.53,-189.54 267.52,-189.78\"/>\n</g>\n<!-- 7 -->\n<g id=\"node8\" class=\"node\">\n<title>7</title>\n<path fill=\"#8139e5\" stroke=\"black\" d=\"M101,-68C101,-68 12,-68 12,-68 6,-68 0,-62 0,-56 0,-56 0,-12 0,-12 0,-6 6,0 12,0 12,0 101,0 101,0 107,0 113,-6 113,-12 113,-12 113,-56 113,-56 113,-62 107,-68 101,-68\"/>\n<text text-anchor=\"start\" x=\"16.5\" y=\"-52.8\" font-family=\"Helvetica,sans-Serif\" font-size=\"14.00\">entropy = 0.0</text>\n<text text-anchor=\"start\" x=\"19\" y=\"-37.8\" font-family=\"Helvetica,sans-Serif\" font-size=\"14.00\">samples = 1</text>\n<text text-anchor=\"start\" x=\"9.5\" y=\"-22.8\" font-family=\"Helvetica,sans-Serif\" font-size=\"14.00\">value = [0, 0, 1]</text>\n<text text-anchor=\"start\" x=\"8\" y=\"-7.8\" font-family=\"Helvetica,sans-Serif\" font-size=\"14.00\">class = virginica</text>\n</g>\n<!-- 6&#45;&gt;7 -->\n<g id=\"edge7\" class=\"edge\">\n<title>6&#45;&gt;7</title>\n<path fill=\"none\" stroke=\"black\" d=\"M98.55,-103.73C93.19,-94.97 87.52,-85.7 82.14,-76.91\"/>\n<polygon fill=\"black\" stroke=\"black\" points=\"85.08,-75 76.88,-68.3 79.11,-78.66 85.08,-75\"/>\n</g>\n<!-- 8 -->\n<g id=\"node9\" class=\"node\">\n<title>8</title>\n<path fill=\"#39e581\" stroke=\"black\" d=\"M240,-68C240,-68 143,-68 143,-68 137,-68 131,-62 131,-56 131,-56 131,-12 131,-12 131,-6 137,0 143,0 143,0 240,0 240,0 246,0 252,-6 252,-12 252,-12 252,-56 252,-56 252,-62 246,-68 240,-68\"/>\n<text text-anchor=\"start\" x=\"151.5\" y=\"-52.8\" font-family=\"Helvetica,sans-Serif\" font-size=\"14.00\">entropy = 0.0</text>\n<text text-anchor=\"start\" x=\"154\" y=\"-37.8\" font-family=\"Helvetica,sans-Serif\" font-size=\"14.00\">samples = 1</text>\n<text text-anchor=\"start\" x=\"144.5\" y=\"-22.8\" font-family=\"Helvetica,sans-Serif\" font-size=\"14.00\">value = [0, 1, 0]</text>\n<text text-anchor=\"start\" x=\"139\" y=\"-7.8\" font-family=\"Helvetica,sans-Serif\" font-size=\"14.00\">class = versicolor</text>\n</g>\n<!-- 6&#45;&gt;8 -->\n<g id=\"edge8\" class=\"edge\">\n<title>6&#45;&gt;8</title>\n<path fill=\"none\" stroke=\"black\" d=\"M148.82,-103.73C154.26,-94.97 160.01,-85.7 165.48,-76.91\"/>\n<polygon fill=\"black\" stroke=\"black\" points=\"168.52,-78.64 170.82,-68.3 162.57,-74.95 168.52,-78.64\"/>\n</g>\n<!-- 11 -->\n<g id=\"node12\" class=\"node\">\n<title>11</title>\n<path fill=\"#ab7bee\" stroke=\"black\" d=\"M459.5,-306C459.5,-306 359.5,-306 359.5,-306 353.5,-306 347.5,-300 347.5,-294 347.5,-294 347.5,-235 347.5,-235 347.5,-229 353.5,-223 359.5,-223 359.5,-223 459.5,-223 459.5,-223 465.5,-223 471.5,-229 471.5,-235 471.5,-235 471.5,-294 471.5,-294 471.5,-300 465.5,-306 459.5,-306\"/>\n<text text-anchor=\"start\" x=\"355.5\" y=\"-290.8\" font-family=\"Helvetica,sans-Serif\" font-size=\"14.00\">Sepal Width ≤ 3.1</text>\n<text text-anchor=\"start\" x=\"362\" y=\"-275.8\" font-family=\"Helvetica,sans-Serif\" font-size=\"14.00\">entropy = 0.811</text>\n<text text-anchor=\"start\" x=\"372\" y=\"-260.8\" font-family=\"Helvetica,sans-Serif\" font-size=\"14.00\">samples = 4</text>\n<text text-anchor=\"start\" x=\"362.5\" y=\"-245.8\" font-family=\"Helvetica,sans-Serif\" font-size=\"14.00\">value = [0, 1, 3]</text>\n<text text-anchor=\"start\" x=\"361\" y=\"-230.8\" font-family=\"Helvetica,sans-Serif\" font-size=\"14.00\">class = virginica</text>\n</g>\n<!-- 10&#45;&gt;11 -->\n<g id=\"edge11\" class=\"edge\">\n<title>10&#45;&gt;11</title>\n<path fill=\"none\" stroke=\"black\" d=\"M410.15,-341.91C410.08,-333.65 410.01,-324.86 409.93,-316.3\"/>\n<polygon fill=\"black\" stroke=\"black\" points=\"413.43,-315.99 409.85,-306.02 406.43,-316.05 413.43,-315.99\"/>\n</g>\n<!-- 14 -->\n<g id=\"node15\" class=\"node\">\n<title>14</title>\n<path fill=\"#8139e5\" stroke=\"black\" d=\"M595,-298.5C595,-298.5 502,-298.5 502,-298.5 496,-298.5 490,-292.5 490,-286.5 490,-286.5 490,-242.5 490,-242.5 490,-236.5 496,-230.5 502,-230.5 502,-230.5 595,-230.5 595,-230.5 601,-230.5 607,-236.5 607,-242.5 607,-242.5 607,-286.5 607,-286.5 607,-292.5 601,-298.5 595,-298.5\"/>\n<text text-anchor=\"start\" x=\"508.5\" y=\"-283.3\" font-family=\"Helvetica,sans-Serif\" font-size=\"14.00\">entropy = 0.0</text>\n<text text-anchor=\"start\" x=\"507.5\" y=\"-268.3\" font-family=\"Helvetica,sans-Serif\" font-size=\"14.00\">samples = 27</text>\n<text text-anchor=\"start\" x=\"498\" y=\"-253.3\" font-family=\"Helvetica,sans-Serif\" font-size=\"14.00\">value = [0, 0, 27]</text>\n<text text-anchor=\"start\" x=\"500\" y=\"-238.3\" font-family=\"Helvetica,sans-Serif\" font-size=\"14.00\">class = virginica</text>\n</g>\n<!-- 10&#45;&gt;14 -->\n<g id=\"edge14\" class=\"edge\">\n<title>10&#45;&gt;14</title>\n<path fill=\"none\" stroke=\"black\" d=\"M458.38,-341.91C472.3,-330.1 487.5,-317.22 501.38,-305.45\"/>\n<polygon fill=\"black\" stroke=\"black\" points=\"504.02,-307.8 509.38,-298.67 499.49,-302.46 504.02,-307.8\"/>\n</g>\n<!-- 12 -->\n<g id=\"node13\" class=\"node\">\n<title>12</title>\n<path fill=\"#8139e5\" stroke=\"black\" d=\"M451,-179.5C451,-179.5 362,-179.5 362,-179.5 356,-179.5 350,-173.5 350,-167.5 350,-167.5 350,-123.5 350,-123.5 350,-117.5 356,-111.5 362,-111.5 362,-111.5 451,-111.5 451,-111.5 457,-111.5 463,-117.5 463,-123.5 463,-123.5 463,-167.5 463,-167.5 463,-173.5 457,-179.5 451,-179.5\"/>\n<text text-anchor=\"start\" x=\"366.5\" y=\"-164.3\" font-family=\"Helvetica,sans-Serif\" font-size=\"14.00\">entropy = 0.0</text>\n<text text-anchor=\"start\" x=\"369\" y=\"-149.3\" font-family=\"Helvetica,sans-Serif\" font-size=\"14.00\">samples = 3</text>\n<text text-anchor=\"start\" x=\"359.5\" y=\"-134.3\" font-family=\"Helvetica,sans-Serif\" font-size=\"14.00\">value = [0, 0, 3]</text>\n<text text-anchor=\"start\" x=\"358\" y=\"-119.3\" font-family=\"Helvetica,sans-Serif\" font-size=\"14.00\">class = virginica</text>\n</g>\n<!-- 11&#45;&gt;12 -->\n<g id=\"edge12\" class=\"edge\">\n<title>11&#45;&gt;12</title>\n<path fill=\"none\" stroke=\"black\" d=\"M408.46,-222.91C408.18,-212.2 407.89,-200.62 407.61,-189.78\"/>\n<polygon fill=\"black\" stroke=\"black\" points=\"411.11,-189.57 407.35,-179.67 404.11,-189.75 411.11,-189.57\"/>\n</g>\n<!-- 13 -->\n<g id=\"node14\" class=\"node\">\n<title>13</title>\n<path fill=\"#39e581\" stroke=\"black\" d=\"M590,-179.5C590,-179.5 493,-179.5 493,-179.5 487,-179.5 481,-173.5 481,-167.5 481,-167.5 481,-123.5 481,-123.5 481,-117.5 487,-111.5 493,-111.5 493,-111.5 590,-111.5 590,-111.5 596,-111.5 602,-117.5 602,-123.5 602,-123.5 602,-167.5 602,-167.5 602,-173.5 596,-179.5 590,-179.5\"/>\n<text text-anchor=\"start\" x=\"501.5\" y=\"-164.3\" font-family=\"Helvetica,sans-Serif\" font-size=\"14.00\">entropy = 0.0</text>\n<text text-anchor=\"start\" x=\"504\" y=\"-149.3\" font-family=\"Helvetica,sans-Serif\" font-size=\"14.00\">samples = 1</text>\n<text text-anchor=\"start\" x=\"494.5\" y=\"-134.3\" font-family=\"Helvetica,sans-Serif\" font-size=\"14.00\">value = [0, 1, 0]</text>\n<text text-anchor=\"start\" x=\"489\" y=\"-119.3\" font-family=\"Helvetica,sans-Serif\" font-size=\"14.00\">class = versicolor</text>\n</g>\n<!-- 11&#45;&gt;13 -->\n<g id=\"edge13\" class=\"edge\">\n<title>11&#45;&gt;13</title>\n<path fill=\"none\" stroke=\"black\" d=\"M455.3,-222.91C468.62,-211.1 483.15,-198.22 496.43,-186.45\"/>\n<polygon fill=\"black\" stroke=\"black\" points=\"498.92,-188.92 504.08,-179.67 494.28,-183.68 498.92,-188.92\"/>\n</g>\n</g>\n</svg>\n",
            "text/plain": [
              "<graphviz.sources.Source at 0x7cd23abaf8b0>"
            ]
          },
          "metadata": {},
          "execution_count": 23
        }
      ]
    },
    {
      "cell_type": "code",
      "source": [
        "#Plotting the results using graphviz using criterion using as gini\n",
        "import graphviz\n",
        "feature_cols = ['Sepal Length', 'Sepal Width', 'Petal Length', 'Petal Width']\n",
        "dot_data = tree.export_graphviz(clf_gini, out_file=None,feature_names = feature_cols,\n",
        " class_names=['setosa','versicolor','virginica'], filled=True, rounded=True, special_characters=True)\n",
        "graph = graphviz.Source(dot_data)\n",
        "graph\n"
      ],
      "metadata": {
        "colab": {
          "base_uri": "https://localhost:8080/",
          "height": 916
        },
        "id": "JbNdmLl8mDD6",
        "outputId": "28162570-317f-4937-8420-080fb501ac8e"
      },
      "execution_count": 24,
      "outputs": [
        {
          "output_type": "execute_result",
          "data": {
            "image/svg+xml": "<?xml version=\"1.0\" encoding=\"UTF-8\" standalone=\"no\"?>\n<!DOCTYPE svg PUBLIC \"-//W3C//DTD SVG 1.1//EN\"\n \"http://www.w3.org/Graphics/SVG/1.1/DTD/svg11.dtd\">\n<!-- Generated by graphviz version 2.43.0 (0)\n -->\n<!-- Title: Tree Pages: 1 -->\n<svg width=\"615pt\" height=\"671pt\"\n viewBox=\"0.00 0.00 615.00 671.00\" xmlns=\"http://www.w3.org/2000/svg\" xmlns:xlink=\"http://www.w3.org/1999/xlink\">\n<g id=\"graph0\" class=\"graph\" transform=\"scale(1 1) rotate(0) translate(4 667)\">\n<title>Tree</title>\n<polygon fill=\"white\" stroke=\"transparent\" points=\"-4,4 -4,-667 611,-667 611,4 -4,4\"/>\n<!-- 0 -->\n<g id=\"node1\" class=\"node\">\n<title>0</title>\n<path fill=\"#fefbf9\" stroke=\"black\" d=\"M317.5,-663C317.5,-663 209.5,-663 209.5,-663 203.5,-663 197.5,-657 197.5,-651 197.5,-651 197.5,-592 197.5,-592 197.5,-586 203.5,-580 209.5,-580 209.5,-580 317.5,-580 317.5,-580 323.5,-580 329.5,-586 329.5,-592 329.5,-592 329.5,-651 329.5,-651 329.5,-657 323.5,-663 317.5,-663\"/>\n<text text-anchor=\"start\" x=\"208.5\" y=\"-647.8\" font-family=\"Helvetica,sans-Serif\" font-size=\"14.00\">Petal Length ≤ 2.5</text>\n<text text-anchor=\"start\" x=\"228\" y=\"-632.8\" font-family=\"Helvetica,sans-Serif\" font-size=\"14.00\">gini = 0.666</text>\n<text text-anchor=\"start\" x=\"218.5\" y=\"-617.8\" font-family=\"Helvetica,sans-Serif\" font-size=\"14.00\">samples = 105</text>\n<text text-anchor=\"start\" x=\"205.5\" y=\"-602.8\" font-family=\"Helvetica,sans-Serif\" font-size=\"14.00\">value = [37, 35, 33]</text>\n<text text-anchor=\"start\" x=\"220\" y=\"-587.8\" font-family=\"Helvetica,sans-Serif\" font-size=\"14.00\">class = setosa</text>\n</g>\n<!-- 1 -->\n<g id=\"node2\" class=\"node\">\n<title>1</title>\n<path fill=\"#e58139\" stroke=\"black\" d=\"M240,-536.5C240,-536.5 147,-536.5 147,-536.5 141,-536.5 135,-530.5 135,-524.5 135,-524.5 135,-480.5 135,-480.5 135,-474.5 141,-468.5 147,-468.5 147,-468.5 240,-468.5 240,-468.5 246,-468.5 252,-474.5 252,-480.5 252,-480.5 252,-524.5 252,-524.5 252,-530.5 246,-536.5 240,-536.5\"/>\n<text text-anchor=\"start\" x=\"165.5\" y=\"-521.3\" font-family=\"Helvetica,sans-Serif\" font-size=\"14.00\">gini = 0.0</text>\n<text text-anchor=\"start\" x=\"152.5\" y=\"-506.3\" font-family=\"Helvetica,sans-Serif\" font-size=\"14.00\">samples = 37</text>\n<text text-anchor=\"start\" x=\"143\" y=\"-491.3\" font-family=\"Helvetica,sans-Serif\" font-size=\"14.00\">value = [37, 0, 0]</text>\n<text text-anchor=\"start\" x=\"150\" y=\"-476.3\" font-family=\"Helvetica,sans-Serif\" font-size=\"14.00\">class = setosa</text>\n</g>\n<!-- 0&#45;&gt;1 -->\n<g id=\"edge1\" class=\"edge\">\n<title>0&#45;&gt;1</title>\n<path fill=\"none\" stroke=\"black\" d=\"M239.21,-579.91C232.55,-568.76 225.3,-556.66 218.59,-545.44\"/>\n<polygon fill=\"black\" stroke=\"black\" points=\"221.48,-543.45 213.34,-536.67 215.47,-547.05 221.48,-543.45\"/>\n<text text-anchor=\"middle\" x=\"207.25\" y=\"-557.21\" font-family=\"Helvetica,sans-Serif\" font-size=\"14.00\">True</text>\n</g>\n<!-- 2 -->\n<g id=\"node3\" class=\"node\">\n<title>2</title>\n<path fill=\"#f4fef8\" stroke=\"black\" d=\"M386.5,-544C386.5,-544 282.5,-544 282.5,-544 276.5,-544 270.5,-538 270.5,-532 270.5,-532 270.5,-473 270.5,-473 270.5,-467 276.5,-461 282.5,-461 282.5,-461 386.5,-461 386.5,-461 392.5,-461 398.5,-467 398.5,-473 398.5,-473 398.5,-532 398.5,-532 398.5,-538 392.5,-544 386.5,-544\"/>\n<text text-anchor=\"start\" x=\"278.5\" y=\"-528.8\" font-family=\"Helvetica,sans-Serif\" font-size=\"14.00\">Petal Width ≤ 1.65</text>\n<text text-anchor=\"start\" x=\"306.5\" y=\"-513.8\" font-family=\"Helvetica,sans-Serif\" font-size=\"14.00\">gini = 0.5</text>\n<text text-anchor=\"start\" x=\"293.5\" y=\"-498.8\" font-family=\"Helvetica,sans-Serif\" font-size=\"14.00\">samples = 68</text>\n<text text-anchor=\"start\" x=\"280\" y=\"-483.8\" font-family=\"Helvetica,sans-Serif\" font-size=\"14.00\">value = [0, 35, 33]</text>\n<text text-anchor=\"start\" x=\"282\" y=\"-468.8\" font-family=\"Helvetica,sans-Serif\" font-size=\"14.00\">class = versicolor</text>\n</g>\n<!-- 0&#45;&gt;2 -->\n<g id=\"edge2\" class=\"edge\">\n<title>0&#45;&gt;2</title>\n<path fill=\"none\" stroke=\"black\" d=\"M288.13,-579.91C293.47,-571.1 299.18,-561.7 304.7,-552.61\"/>\n<polygon fill=\"black\" stroke=\"black\" points=\"307.71,-554.39 309.91,-544.02 301.73,-550.75 307.71,-554.39\"/>\n<text text-anchor=\"middle\" x=\"315.85\" y=\"-564.6\" font-family=\"Helvetica,sans-Serif\" font-size=\"14.00\">False</text>\n</g>\n<!-- 3 -->\n<g id=\"node4\" class=\"node\">\n<title>3</title>\n<path fill=\"#4ae78c\" stroke=\"black\" d=\"M313.5,-425C313.5,-425 203.5,-425 203.5,-425 197.5,-425 191.5,-419 191.5,-413 191.5,-413 191.5,-354 191.5,-354 191.5,-348 197.5,-342 203.5,-342 203.5,-342 313.5,-342 313.5,-342 319.5,-342 325.5,-348 325.5,-354 325.5,-354 325.5,-413 325.5,-413 325.5,-419 319.5,-425 313.5,-425\"/>\n<text text-anchor=\"start\" x=\"199.5\" y=\"-409.8\" font-family=\"Helvetica,sans-Serif\" font-size=\"14.00\">Petal Length ≤ 4.95</text>\n<text text-anchor=\"start\" x=\"223\" y=\"-394.8\" font-family=\"Helvetica,sans-Serif\" font-size=\"14.00\">gini = 0.149</text>\n<text text-anchor=\"start\" x=\"217.5\" y=\"-379.8\" font-family=\"Helvetica,sans-Serif\" font-size=\"14.00\">samples = 37</text>\n<text text-anchor=\"start\" x=\"208\" y=\"-364.8\" font-family=\"Helvetica,sans-Serif\" font-size=\"14.00\">value = [0, 34, 3]</text>\n<text text-anchor=\"start\" x=\"206\" y=\"-349.8\" font-family=\"Helvetica,sans-Serif\" font-size=\"14.00\">class = versicolor</text>\n</g>\n<!-- 2&#45;&gt;3 -->\n<g id=\"edge3\" class=\"edge\">\n<title>2&#45;&gt;3</title>\n<path fill=\"none\" stroke=\"black\" d=\"M308.13,-460.91C302.41,-452.1 296.31,-442.7 290.4,-433.61\"/>\n<polygon fill=\"black\" stroke=\"black\" points=\"293.2,-431.5 284.82,-425.02 287.33,-435.31 293.2,-431.5\"/>\n</g>\n<!-- 10 -->\n<g id=\"node11\" class=\"node\">\n<title>10</title>\n<path fill=\"#8540e6\" stroke=\"black\" d=\"M465.5,-425C465.5,-425 355.5,-425 355.5,-425 349.5,-425 343.5,-419 343.5,-413 343.5,-413 343.5,-354 343.5,-354 343.5,-348 349.5,-342 355.5,-342 355.5,-342 465.5,-342 465.5,-342 471.5,-342 477.5,-348 477.5,-354 477.5,-354 477.5,-413 477.5,-413 477.5,-419 471.5,-425 465.5,-425\"/>\n<text text-anchor=\"start\" x=\"351.5\" y=\"-409.8\" font-family=\"Helvetica,sans-Serif\" font-size=\"14.00\">Petal Length ≤ 4.85</text>\n<text text-anchor=\"start\" x=\"375\" y=\"-394.8\" font-family=\"Helvetica,sans-Serif\" font-size=\"14.00\">gini = 0.062</text>\n<text text-anchor=\"start\" x=\"369.5\" y=\"-379.8\" font-family=\"Helvetica,sans-Serif\" font-size=\"14.00\">samples = 31</text>\n<text text-anchor=\"start\" x=\"360\" y=\"-364.8\" font-family=\"Helvetica,sans-Serif\" font-size=\"14.00\">value = [0, 1, 30]</text>\n<text text-anchor=\"start\" x=\"362\" y=\"-349.8\" font-family=\"Helvetica,sans-Serif\" font-size=\"14.00\">class = virginica</text>\n</g>\n<!-- 2&#45;&gt;10 -->\n<g id=\"edge10\" class=\"edge\">\n<title>2&#45;&gt;10</title>\n<path fill=\"none\" stroke=\"black\" d=\"M360.87,-460.91C366.59,-452.1 372.69,-442.7 378.6,-433.61\"/>\n<polygon fill=\"black\" stroke=\"black\" points=\"381.67,-435.31 384.18,-425.02 375.8,-431.5 381.67,-435.31\"/>\n</g>\n<!-- 4 -->\n<g id=\"node5\" class=\"node\">\n<title>4</title>\n<path fill=\"#39e581\" stroke=\"black\" d=\"M166,-298.5C166,-298.5 69,-298.5 69,-298.5 63,-298.5 57,-292.5 57,-286.5 57,-286.5 57,-242.5 57,-242.5 57,-236.5 63,-230.5 69,-230.5 69,-230.5 166,-230.5 166,-230.5 172,-230.5 178,-236.5 178,-242.5 178,-242.5 178,-286.5 178,-286.5 178,-292.5 172,-298.5 166,-298.5\"/>\n<text text-anchor=\"start\" x=\"89.5\" y=\"-283.3\" font-family=\"Helvetica,sans-Serif\" font-size=\"14.00\">gini = 0.0</text>\n<text text-anchor=\"start\" x=\"76.5\" y=\"-268.3\" font-family=\"Helvetica,sans-Serif\" font-size=\"14.00\">samples = 33</text>\n<text text-anchor=\"start\" x=\"67\" y=\"-253.3\" font-family=\"Helvetica,sans-Serif\" font-size=\"14.00\">value = [0, 33, 0]</text>\n<text text-anchor=\"start\" x=\"65\" y=\"-238.3\" font-family=\"Helvetica,sans-Serif\" font-size=\"14.00\">class = versicolor</text>\n</g>\n<!-- 3&#45;&gt;4 -->\n<g id=\"edge4\" class=\"edge\">\n<title>3&#45;&gt;4</title>\n<path fill=\"none\" stroke=\"black\" d=\"M209.58,-341.91C195.22,-329.99 179.53,-316.98 165.25,-305.12\"/>\n<polygon fill=\"black\" stroke=\"black\" points=\"167.4,-302.36 157.47,-298.67 162.93,-307.75 167.4,-302.36\"/>\n</g>\n<!-- 5 -->\n<g id=\"node6\" class=\"node\">\n<title>5</title>\n<path fill=\"#ab7bee\" stroke=\"black\" d=\"M315,-306C315,-306 208,-306 208,-306 202,-306 196,-300 196,-294 196,-294 196,-235 196,-235 196,-229 202,-223 208,-223 208,-223 315,-223 315,-223 321,-223 327,-229 327,-235 327,-235 327,-294 327,-294 327,-300 321,-306 315,-306\"/>\n<text text-anchor=\"start\" x=\"204\" y=\"-290.8\" font-family=\"Helvetica,sans-Serif\" font-size=\"14.00\">Sepal Width ≤ 2.75</text>\n<text text-anchor=\"start\" x=\"226\" y=\"-275.8\" font-family=\"Helvetica,sans-Serif\" font-size=\"14.00\">gini = 0.375</text>\n<text text-anchor=\"start\" x=\"224\" y=\"-260.8\" font-family=\"Helvetica,sans-Serif\" font-size=\"14.00\">samples = 4</text>\n<text text-anchor=\"start\" x=\"214.5\" y=\"-245.8\" font-family=\"Helvetica,sans-Serif\" font-size=\"14.00\">value = [0, 1, 3]</text>\n<text text-anchor=\"start\" x=\"213\" y=\"-230.8\" font-family=\"Helvetica,sans-Serif\" font-size=\"14.00\">class = virginica</text>\n</g>\n<!-- 3&#45;&gt;5 -->\n<g id=\"edge5\" class=\"edge\">\n<title>3&#45;&gt;5</title>\n<path fill=\"none\" stroke=\"black\" d=\"M259.54,-341.91C259.75,-333.56 259.98,-324.67 260.2,-316.02\"/>\n<polygon fill=\"black\" stroke=\"black\" points=\"263.7,-316.11 260.46,-306.02 256.71,-315.93 263.7,-316.11\"/>\n</g>\n<!-- 6 -->\n<g id=\"node7\" class=\"node\">\n<title>6</title>\n<path fill=\"#ffffff\" stroke=\"black\" d=\"M178.5,-187C178.5,-187 68.5,-187 68.5,-187 62.5,-187 56.5,-181 56.5,-175 56.5,-175 56.5,-116 56.5,-116 56.5,-110 62.5,-104 68.5,-104 68.5,-104 178.5,-104 178.5,-104 184.5,-104 190.5,-110 190.5,-116 190.5,-116 190.5,-175 190.5,-175 190.5,-181 184.5,-187 178.5,-187\"/>\n<text text-anchor=\"start\" x=\"64.5\" y=\"-171.8\" font-family=\"Helvetica,sans-Serif\" font-size=\"14.00\">Petal Length ≤ 5.05</text>\n<text text-anchor=\"start\" x=\"95.5\" y=\"-156.8\" font-family=\"Helvetica,sans-Serif\" font-size=\"14.00\">gini = 0.5</text>\n<text text-anchor=\"start\" x=\"86\" y=\"-141.8\" font-family=\"Helvetica,sans-Serif\" font-size=\"14.00\">samples = 2</text>\n<text text-anchor=\"start\" x=\"76.5\" y=\"-126.8\" font-family=\"Helvetica,sans-Serif\" font-size=\"14.00\">value = [0, 1, 1]</text>\n<text text-anchor=\"start\" x=\"71\" y=\"-111.8\" font-family=\"Helvetica,sans-Serif\" font-size=\"14.00\">class = versicolor</text>\n</g>\n<!-- 5&#45;&gt;6 -->\n<g id=\"edge6\" class=\"edge\">\n<title>5&#45;&gt;6</title>\n<path fill=\"none\" stroke=\"black\" d=\"M213.62,-222.91C202.49,-213.47 190.55,-203.34 179.11,-193.65\"/>\n<polygon fill=\"black\" stroke=\"black\" points=\"181.18,-190.82 171.29,-187.02 176.66,-196.16 181.18,-190.82\"/>\n</g>\n<!-- 9 -->\n<g id=\"node10\" class=\"node\">\n<title>9</title>\n<path fill=\"#8139e5\" stroke=\"black\" d=\"M310,-179.5C310,-179.5 221,-179.5 221,-179.5 215,-179.5 209,-173.5 209,-167.5 209,-167.5 209,-123.5 209,-123.5 209,-117.5 215,-111.5 221,-111.5 221,-111.5 310,-111.5 310,-111.5 316,-111.5 322,-117.5 322,-123.5 322,-123.5 322,-167.5 322,-167.5 322,-173.5 316,-179.5 310,-179.5\"/>\n<text text-anchor=\"start\" x=\"237.5\" y=\"-164.3\" font-family=\"Helvetica,sans-Serif\" font-size=\"14.00\">gini = 0.0</text>\n<text text-anchor=\"start\" x=\"228\" y=\"-149.3\" font-family=\"Helvetica,sans-Serif\" font-size=\"14.00\">samples = 2</text>\n<text text-anchor=\"start\" x=\"218.5\" y=\"-134.3\" font-family=\"Helvetica,sans-Serif\" font-size=\"14.00\">value = [0, 0, 2]</text>\n<text text-anchor=\"start\" x=\"217\" y=\"-119.3\" font-family=\"Helvetica,sans-Serif\" font-size=\"14.00\">class = virginica</text>\n</g>\n<!-- 5&#45;&gt;9 -->\n<g id=\"edge9\" class=\"edge\">\n<title>5&#45;&gt;9</title>\n<path fill=\"none\" stroke=\"black\" d=\"M262.89,-222.91C263.25,-212.2 263.65,-200.62 264.02,-189.78\"/>\n<polygon fill=\"black\" stroke=\"black\" points=\"267.52,-189.78 264.37,-179.67 260.53,-189.54 267.52,-189.78\"/>\n</g>\n<!-- 7 -->\n<g id=\"node8\" class=\"node\">\n<title>7</title>\n<path fill=\"#8139e5\" stroke=\"black\" d=\"M101,-68C101,-68 12,-68 12,-68 6,-68 0,-62 0,-56 0,-56 0,-12 0,-12 0,-6 6,0 12,0 12,0 101,0 101,0 107,0 113,-6 113,-12 113,-12 113,-56 113,-56 113,-62 107,-68 101,-68\"/>\n<text text-anchor=\"start\" x=\"28.5\" y=\"-52.8\" font-family=\"Helvetica,sans-Serif\" font-size=\"14.00\">gini = 0.0</text>\n<text text-anchor=\"start\" x=\"19\" y=\"-37.8\" font-family=\"Helvetica,sans-Serif\" font-size=\"14.00\">samples = 1</text>\n<text text-anchor=\"start\" x=\"9.5\" y=\"-22.8\" font-family=\"Helvetica,sans-Serif\" font-size=\"14.00\">value = [0, 0, 1]</text>\n<text text-anchor=\"start\" x=\"8\" y=\"-7.8\" font-family=\"Helvetica,sans-Serif\" font-size=\"14.00\">class = virginica</text>\n</g>\n<!-- 6&#45;&gt;7 -->\n<g id=\"edge7\" class=\"edge\">\n<title>6&#45;&gt;7</title>\n<path fill=\"none\" stroke=\"black\" d=\"M98.55,-103.73C93.19,-94.97 87.52,-85.7 82.14,-76.91\"/>\n<polygon fill=\"black\" stroke=\"black\" points=\"85.08,-75 76.88,-68.3 79.11,-78.66 85.08,-75\"/>\n</g>\n<!-- 8 -->\n<g id=\"node9\" class=\"node\">\n<title>8</title>\n<path fill=\"#39e581\" stroke=\"black\" d=\"M240,-68C240,-68 143,-68 143,-68 137,-68 131,-62 131,-56 131,-56 131,-12 131,-12 131,-6 137,0 143,0 143,0 240,0 240,0 246,0 252,-6 252,-12 252,-12 252,-56 252,-56 252,-62 246,-68 240,-68\"/>\n<text text-anchor=\"start\" x=\"163.5\" y=\"-52.8\" font-family=\"Helvetica,sans-Serif\" font-size=\"14.00\">gini = 0.0</text>\n<text text-anchor=\"start\" x=\"154\" y=\"-37.8\" font-family=\"Helvetica,sans-Serif\" font-size=\"14.00\">samples = 1</text>\n<text text-anchor=\"start\" x=\"144.5\" y=\"-22.8\" font-family=\"Helvetica,sans-Serif\" font-size=\"14.00\">value = [0, 1, 0]</text>\n<text text-anchor=\"start\" x=\"139\" y=\"-7.8\" font-family=\"Helvetica,sans-Serif\" font-size=\"14.00\">class = versicolor</text>\n</g>\n<!-- 6&#45;&gt;8 -->\n<g id=\"edge8\" class=\"edge\">\n<title>6&#45;&gt;8</title>\n<path fill=\"none\" stroke=\"black\" d=\"M148.82,-103.73C154.26,-94.97 160.01,-85.7 165.48,-76.91\"/>\n<polygon fill=\"black\" stroke=\"black\" points=\"168.52,-78.64 170.82,-68.3 162.57,-74.95 168.52,-78.64\"/>\n</g>\n<!-- 11 -->\n<g id=\"node12\" class=\"node\">\n<title>11</title>\n<path fill=\"#ab7bee\" stroke=\"black\" d=\"M459.5,-306C459.5,-306 359.5,-306 359.5,-306 353.5,-306 347.5,-300 347.5,-294 347.5,-294 347.5,-235 347.5,-235 347.5,-229 353.5,-223 359.5,-223 359.5,-223 459.5,-223 459.5,-223 465.5,-223 471.5,-229 471.5,-235 471.5,-235 471.5,-294 471.5,-294 471.5,-300 465.5,-306 459.5,-306\"/>\n<text text-anchor=\"start\" x=\"355.5\" y=\"-290.8\" font-family=\"Helvetica,sans-Serif\" font-size=\"14.00\">Sepal Width ≤ 3.1</text>\n<text text-anchor=\"start\" x=\"374\" y=\"-275.8\" font-family=\"Helvetica,sans-Serif\" font-size=\"14.00\">gini = 0.375</text>\n<text text-anchor=\"start\" x=\"372\" y=\"-260.8\" font-family=\"Helvetica,sans-Serif\" font-size=\"14.00\">samples = 4</text>\n<text text-anchor=\"start\" x=\"362.5\" y=\"-245.8\" font-family=\"Helvetica,sans-Serif\" font-size=\"14.00\">value = [0, 1, 3]</text>\n<text text-anchor=\"start\" x=\"361\" y=\"-230.8\" font-family=\"Helvetica,sans-Serif\" font-size=\"14.00\">class = virginica</text>\n</g>\n<!-- 10&#45;&gt;11 -->\n<g id=\"edge11\" class=\"edge\">\n<title>10&#45;&gt;11</title>\n<path fill=\"none\" stroke=\"black\" d=\"M410.15,-341.91C410.08,-333.65 410.01,-324.86 409.93,-316.3\"/>\n<polygon fill=\"black\" stroke=\"black\" points=\"413.43,-315.99 409.85,-306.02 406.43,-316.05 413.43,-315.99\"/>\n</g>\n<!-- 14 -->\n<g id=\"node15\" class=\"node\">\n<title>14</title>\n<path fill=\"#8139e5\" stroke=\"black\" d=\"M595,-298.5C595,-298.5 502,-298.5 502,-298.5 496,-298.5 490,-292.5 490,-286.5 490,-286.5 490,-242.5 490,-242.5 490,-236.5 496,-230.5 502,-230.5 502,-230.5 595,-230.5 595,-230.5 601,-230.5 607,-236.5 607,-242.5 607,-242.5 607,-286.5 607,-286.5 607,-292.5 601,-298.5 595,-298.5\"/>\n<text text-anchor=\"start\" x=\"520.5\" y=\"-283.3\" font-family=\"Helvetica,sans-Serif\" font-size=\"14.00\">gini = 0.0</text>\n<text text-anchor=\"start\" x=\"507.5\" y=\"-268.3\" font-family=\"Helvetica,sans-Serif\" font-size=\"14.00\">samples = 27</text>\n<text text-anchor=\"start\" x=\"498\" y=\"-253.3\" font-family=\"Helvetica,sans-Serif\" font-size=\"14.00\">value = [0, 0, 27]</text>\n<text text-anchor=\"start\" x=\"500\" y=\"-238.3\" font-family=\"Helvetica,sans-Serif\" font-size=\"14.00\">class = virginica</text>\n</g>\n<!-- 10&#45;&gt;14 -->\n<g id=\"edge14\" class=\"edge\">\n<title>10&#45;&gt;14</title>\n<path fill=\"none\" stroke=\"black\" d=\"M458.38,-341.91C472.3,-330.1 487.5,-317.22 501.38,-305.45\"/>\n<polygon fill=\"black\" stroke=\"black\" points=\"504.02,-307.8 509.38,-298.67 499.49,-302.46 504.02,-307.8\"/>\n</g>\n<!-- 12 -->\n<g id=\"node13\" class=\"node\">\n<title>12</title>\n<path fill=\"#8139e5\" stroke=\"black\" d=\"M451,-179.5C451,-179.5 362,-179.5 362,-179.5 356,-179.5 350,-173.5 350,-167.5 350,-167.5 350,-123.5 350,-123.5 350,-117.5 356,-111.5 362,-111.5 362,-111.5 451,-111.5 451,-111.5 457,-111.5 463,-117.5 463,-123.5 463,-123.5 463,-167.5 463,-167.5 463,-173.5 457,-179.5 451,-179.5\"/>\n<text text-anchor=\"start\" x=\"378.5\" y=\"-164.3\" font-family=\"Helvetica,sans-Serif\" font-size=\"14.00\">gini = 0.0</text>\n<text text-anchor=\"start\" x=\"369\" y=\"-149.3\" font-family=\"Helvetica,sans-Serif\" font-size=\"14.00\">samples = 3</text>\n<text text-anchor=\"start\" x=\"359.5\" y=\"-134.3\" font-family=\"Helvetica,sans-Serif\" font-size=\"14.00\">value = [0, 0, 3]</text>\n<text text-anchor=\"start\" x=\"358\" y=\"-119.3\" font-family=\"Helvetica,sans-Serif\" font-size=\"14.00\">class = virginica</text>\n</g>\n<!-- 11&#45;&gt;12 -->\n<g id=\"edge12\" class=\"edge\">\n<title>11&#45;&gt;12</title>\n<path fill=\"none\" stroke=\"black\" d=\"M408.46,-222.91C408.18,-212.2 407.89,-200.62 407.61,-189.78\"/>\n<polygon fill=\"black\" stroke=\"black\" points=\"411.11,-189.57 407.35,-179.67 404.11,-189.75 411.11,-189.57\"/>\n</g>\n<!-- 13 -->\n<g id=\"node14\" class=\"node\">\n<title>13</title>\n<path fill=\"#39e581\" stroke=\"black\" d=\"M590,-179.5C590,-179.5 493,-179.5 493,-179.5 487,-179.5 481,-173.5 481,-167.5 481,-167.5 481,-123.5 481,-123.5 481,-117.5 487,-111.5 493,-111.5 493,-111.5 590,-111.5 590,-111.5 596,-111.5 602,-117.5 602,-123.5 602,-123.5 602,-167.5 602,-167.5 602,-173.5 596,-179.5 590,-179.5\"/>\n<text text-anchor=\"start\" x=\"513.5\" y=\"-164.3\" font-family=\"Helvetica,sans-Serif\" font-size=\"14.00\">gini = 0.0</text>\n<text text-anchor=\"start\" x=\"504\" y=\"-149.3\" font-family=\"Helvetica,sans-Serif\" font-size=\"14.00\">samples = 1</text>\n<text text-anchor=\"start\" x=\"494.5\" y=\"-134.3\" font-family=\"Helvetica,sans-Serif\" font-size=\"14.00\">value = [0, 1, 0]</text>\n<text text-anchor=\"start\" x=\"489\" y=\"-119.3\" font-family=\"Helvetica,sans-Serif\" font-size=\"14.00\">class = versicolor</text>\n</g>\n<!-- 11&#45;&gt;13 -->\n<g id=\"edge13\" class=\"edge\">\n<title>11&#45;&gt;13</title>\n<path fill=\"none\" stroke=\"black\" d=\"M455.3,-222.91C468.62,-211.1 483.15,-198.22 496.43,-186.45\"/>\n<polygon fill=\"black\" stroke=\"black\" points=\"498.92,-188.92 504.08,-179.67 494.28,-183.68 498.92,-188.92\"/>\n</g>\n</g>\n</svg>\n",
            "text/plain": [
              "<graphviz.sources.Source at 0x7cd23abae6b0>"
            ]
          },
          "metadata": {},
          "execution_count": 24
        }
      ]
    },
    {
      "cell_type": "code",
      "source": [
        "#performing cross validation for model performance\n",
        "from sklearn.model_selection import cross_val_score\n",
        "scores = cross_val_score(clf_entropy, X_train,y_train, cv=3)\n",
        "print(\"Cross-validation scores:\", scores)\n",
        "\n",
        "# Calculate and print the mean and standard deviation of the scores\n",
        "print(\"Mean accuracy:\", scores.mean())\n"
      ],
      "metadata": {
        "id": "1pDSNn4GvuCM",
        "colab": {
          "base_uri": "https://localhost:8080/"
        },
        "outputId": "10fbee95-2675-4517-bcbb-4081f0f8b189"
      },
      "execution_count": 25,
      "outputs": [
        {
          "output_type": "stream",
          "name": "stdout",
          "text": [
            "Cross-validation scores: [0.91428571 0.94285714 0.97142857]\n",
            "Mean accuracy: 0.942857142857143\n"
          ]
        }
      ]
    }
  ]
}