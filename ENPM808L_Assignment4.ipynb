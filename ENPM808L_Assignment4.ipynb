{
  "nbformat": 4,
  "nbformat_minor": 0,
  "metadata": {
    "colab": {
      "provenance": []
    },
    "kernelspec": {
      "name": "python3",
      "display_name": "Python 3"
    },
    "language_info": {
      "name": "python"
    }
  },
  "cells": [
    {
      "cell_type": "code",
      "execution_count": 29,
      "metadata": {
        "colab": {
          "base_uri": "https://localhost:8080/"
        },
        "id": "Dbds6OD4Febt",
        "outputId": "7031bc72-b0d3-4cc1-e10a-43c52a5be5f1"
      },
      "outputs": [
        {
          "output_type": "stream",
          "name": "stdout",
          "text": [
            "     Sepal Length  Sepal Width  Petal Length  Petal Width      Class\n",
            "0             4.3          3.0           1.1          0.1     setosa\n",
            "1             4.4          2.9           1.4          0.2     setosa\n",
            "2             4.4          3.0           1.3          0.2     setosa\n",
            "3             4.4          3.2           1.3          0.2     setosa\n",
            "4             4.5          2.3           1.3          0.3     setosa\n",
            "..            ...          ...           ...          ...        ...\n",
            "145           7.7          2.6           6.9          2.3  virginica\n",
            "146           7.7          2.8           6.7          2.0  virginica\n",
            "147           7.7          3.0           6.1          2.3  virginica\n",
            "148           7.7          3.8           6.7          2.2  virginica\n",
            "149           7.9          3.8           6.4          2.0  virginica\n",
            "\n",
            "[150 rows x 5 columns]\n"
          ]
        }
      ],
      "source": [
        "#importing packages\n",
        "import sklearn\n",
        "import csv\n",
        "import pandas as pd\n",
        "from sklearn.model_selection import train_test_split\n",
        "from sklearn.tree import DecisionTreeClassifier\n",
        "from sklearn.metrics import accuracy_score\n",
        "from sklearn import tree\n",
        "from sklearn.preprocessing import StandardScaler\n",
        "from sklearn.linear_model import LogisticRegression\n",
        "from sklearn.metrics import accuracy_score\n",
        "\n",
        "\n",
        "#read the csv file\n",
        "data = pd.read_csv(r'/IrisNew.csv')\n",
        "df = pd.DataFrame(data, columns=[\"Sepal Length\",\"Sepal Width\",\"Petal Length\",\"Petal Width\",\"Class\"])\n",
        "print(df)"
      ]
    },
    {
      "cell_type": "code",
      "source": [
        "#split the data into training and testing\n",
        "X = df.values[:,0:4] # first 4 columns are independent variables\n",
        "Y = df.values[:,4] # last column is dependent variable\n",
        "X_train, X_test, y_train, y_test = train_test_split(X, Y, test_size = 0.3,random_state=100)\n",
        "#test size = 70% training and 30 percent testing\n"
      ],
      "metadata": {
        "id": "nqxX-1V8GQiM"
      },
      "execution_count": 30,
      "outputs": []
    },
    {
      "cell_type": "code",
      "source": [
        "#building a decision tree model using entropy\n",
        "clf_entropy = DecisionTreeClassifier(criterion = \"entropy\",random_state = 100)\n",
        "clf_entropy.fit(X_train, y_train)\n",
        "y_pred = clf_entropy.predict(X_test)\n",
        "print(\"Predicted values:\")\n",
        "print(y_pred)\n",
        "print (\"Accuracy : \", accuracy_score(y_test,y_pred)*100)\n"
      ],
      "metadata": {
        "colab": {
          "base_uri": "https://localhost:8080/"
        },
        "id": "KkfRxJbeGSEz",
        "outputId": "d46f1070-1261-4f92-9b6d-ffb7650b740f"
      },
      "execution_count": 31,
      "outputs": [
        {
          "output_type": "stream",
          "name": "stdout",
          "text": [
            "Predicted values:\n",
            "['virginica' 'setosa' 'virginica' 'setosa' 'virginica' 'virginica'\n",
            " 'versicolor' 'setosa' 'virginica' 'setosa' 'setosa' 'versicolor' 'setosa'\n",
            " 'setosa' 'virginica' 'versicolor' 'versicolor' 'virginica' 'virginica'\n",
            " 'virginica' 'versicolor' 'setosa' 'virginica' 'setosa' 'versicolor'\n",
            " 'virginica' 'versicolor' 'setosa' 'versicolor' 'versicolor' 'virginica'\n",
            " 'versicolor' 'virginica' 'setosa' 'versicolor' 'setosa' 'versicolor'\n",
            " 'versicolor' 'virginica' 'virginica' 'versicolor' 'versicolor'\n",
            " 'virginica' 'virginica' 'setosa']\n",
            "Accuracy :  95.55555555555556\n"
          ]
        }
      ]
    },
    {
      "cell_type": "code",
      "source": [
        "#building a decision tree model using gini index\n",
        "clf_gini = DecisionTreeClassifier(criterion = \"gini\",\n",
        "            random_state = 100)\n",
        "clf_gini.fit(X_train, y_train)\n",
        "y_pred = clf_gini.predict(X_test)\n",
        "print(\"Predicted values:\")\n",
        "print(y_pred)\n",
        "print (\"Accuracy : \", accuracy_score(y_test,y_pred)*100)"
      ],
      "metadata": {
        "colab": {
          "base_uri": "https://localhost:8080/"
        },
        "id": "rBWKeOe_GZkN",
        "outputId": "f6d2a375-7f51-4adc-aa78-5b2898630f21"
      },
      "execution_count": 32,
      "outputs": [
        {
          "output_type": "stream",
          "name": "stdout",
          "text": [
            "Predicted values:\n",
            "['virginica' 'setosa' 'virginica' 'setosa' 'virginica' 'virginica'\n",
            " 'versicolor' 'setosa' 'virginica' 'setosa' 'setosa' 'versicolor' 'setosa'\n",
            " 'setosa' 'virginica' 'versicolor' 'versicolor' 'virginica' 'virginica'\n",
            " 'virginica' 'versicolor' 'setosa' 'virginica' 'setosa' 'versicolor'\n",
            " 'virginica' 'versicolor' 'setosa' 'versicolor' 'versicolor' 'virginica'\n",
            " 'versicolor' 'virginica' 'setosa' 'versicolor' 'setosa' 'versicolor'\n",
            " 'versicolor' 'virginica' 'virginica' 'versicolor' 'versicolor'\n",
            " 'virginica' 'virginica' 'setosa']\n",
            "Accuracy :  95.55555555555556\n"
          ]
        }
      ]
    },
    {
      "cell_type": "code",
      "source": [
        "# Building Logistic regression model\n",
        "#preprocessing the data\n",
        "scaler = StandardScaler()\n",
        "X_train = scaler.fit_transform(X_train)\n",
        "X_test = scaler.transform(X_test)\n",
        "\n",
        "# Create and train the logistic regression model\n",
        "logistic_reg = LogisticRegression(multi_class='multinomial', solver='lbfgs')\n",
        "logistic_reg.fit(X_train, y_train)\n",
        "\n",
        "# Make predictions on the test set\n",
        "y_pred = logistic_reg.predict(X_test)\n",
        "print(y_pred)\n",
        "\n",
        "# Evaluate the model\n",
        "accuracy = accuracy_score(y_test, y_pred)\n",
        "\n",
        "print(\"Accuracy:\", accuracy)\n",
        "\n"
      ],
      "metadata": {
        "colab": {
          "base_uri": "https://localhost:8080/"
        },
        "id": "JW55BiZaGdHJ",
        "outputId": "8f28a52a-ca04-4c36-af47-bcdf00cf9fb9"
      },
      "execution_count": 33,
      "outputs": [
        {
          "output_type": "stream",
          "name": "stdout",
          "text": [
            "['virginica' 'setosa' 'virginica' 'setosa' 'virginica' 'virginica'\n",
            " 'versicolor' 'setosa' 'virginica' 'setosa' 'setosa' 'versicolor' 'setosa'\n",
            " 'setosa' 'virginica' 'versicolor' 'versicolor' 'virginica' 'virginica'\n",
            " 'virginica' 'versicolor' 'setosa' 'virginica' 'setosa' 'versicolor'\n",
            " 'virginica' 'versicolor' 'setosa' 'versicolor' 'versicolor' 'virginica'\n",
            " 'versicolor' 'virginica' 'setosa' 'versicolor' 'setosa' 'versicolor'\n",
            " 'versicolor' 'virginica' 'virginica' 'versicolor' 'versicolor'\n",
            " 'virginica' 'virginica' 'setosa']\n",
            "Accuracy: 0.9555555555555556\n"
          ]
        }
      ]
    },
    {
      "cell_type": "code",
      "source": [
        "#performing cross validation for decision tree model using entropy as criterion\n",
        "from sklearn.model_selection import cross_val_score\n",
        "scores = cross_val_score(clf_entropy, X_train,y_train, cv=5)\n",
        "print(\"Cross-validation scores:\", scores)\n",
        "\n",
        "# Calculate and print the mean and standard deviation of the scores\n",
        "print(\"Mean accuracy:\", scores.mean())\n",
        "print(\"Standarad Deviation\",scores.std())\n"
      ],
      "metadata": {
        "colab": {
          "base_uri": "https://localhost:8080/"
        },
        "id": "Nlj1N9ePGUnR",
        "outputId": "9c539e46-df9a-4452-ba08-c4051afc7a39"
      },
      "execution_count": 34,
      "outputs": [
        {
          "output_type": "stream",
          "name": "stdout",
          "text": [
            "Cross-validation scores: [0.9047619  0.95238095 0.95238095 1.         0.95238095]\n",
            "Mean accuracy: 0.9523809523809523\n",
            "Standarad Deviation 0.030116930096841705\n"
          ]
        }
      ]
    },
    {
      "cell_type": "code",
      "source": [
        "#performing cross validation for decision tree model using gini as criterion\n",
        "from sklearn.model_selection import cross_val_score\n",
        "scores = cross_val_score(clf_gini, X_train,y_train, cv=5)\n",
        "print(\"Cross-validation scores:\", scores)\n",
        "\n",
        "# Calculate and print the mean and standard deviation of the scores\n",
        "print(\"Mean accuracy:\", scores.mean())\n",
        "print(\"Standarad Deviation\",scores.std())"
      ],
      "metadata": {
        "colab": {
          "base_uri": "https://localhost:8080/"
        },
        "id": "UiEwS4EZHJcV",
        "outputId": "fd1dc301-8ad8-4043-cdb7-3d5831c7c572"
      },
      "execution_count": 35,
      "outputs": [
        {
          "output_type": "stream",
          "name": "stdout",
          "text": [
            "Cross-validation scores: [0.9047619  0.95238095 0.95238095 1.         0.95238095]\n",
            "Mean accuracy: 0.9523809523809523\n",
            "Standarad Deviation 0.030116930096841705\n"
          ]
        }
      ]
    },
    {
      "cell_type": "code",
      "source": [
        "#performing cross validation for decision logistic regression model\n",
        "from sklearn.model_selection import cross_val_score\n",
        "scores = cross_val_score(logistic_reg, X_train,y_train, cv=5)\n",
        "print(\"Cross-validation scores:\", scores)\n",
        "\n",
        "# Calculate and print the mean and standard deviation of the scores\n",
        "print(\"Mean accuracy:\", scores.mean())\n",
        "print(\"Standarad Deviation\",scores.std())\n"
      ],
      "metadata": {
        "colab": {
          "base_uri": "https://localhost:8080/"
        },
        "id": "H5cIlgjaHVsz",
        "outputId": "8916081b-4be7-4106-d8ac-2f458287f9a6"
      },
      "execution_count": 36,
      "outputs": [
        {
          "output_type": "stream",
          "name": "stdout",
          "text": [
            "Cross-validation scores: [0.9047619  0.95238095 0.95238095 1.         0.95238095]\n",
            "Mean accuracy: 0.9523809523809523\n",
            "Standarad Deviation 0.030116930096841705\n"
          ]
        }
      ]
    }
  ]
}